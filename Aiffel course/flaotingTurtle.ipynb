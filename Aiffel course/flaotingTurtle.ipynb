{
 "cells": [
  {
   "cell_type": "code",
   "execution_count": 6,
   "metadata": {},
   "outputs": [
    {
     "name": "stdout",
     "output_type": "stream",
     "text": [
      "Requirement already satisfied: ColabTurtle in /Users/taehwan/miniconda3/lib/python3.9/site-packages (2.1.0)\n"
     ]
    }
   ],
   "source": [
    "! pip install ColabTurtle"
   ]
  },
  {
   "cell_type": "code",
   "execution_count": 1,
   "metadata": {},
   "outputs": [
    {
     "data": {
      "text/html": [
       "\n",
       "      <svg width=\"800\" height=\"500\">\n",
       "        <rect width=\"100%\" height=\"100%\" fill=\"black\"/>\n",
       "        \n",
       "        <g visibility=visible transform=\"rotate(360,400,250) translate(382, 232)\">\n",
       "<path style=\" stroke:none;fill-rule:evenodd;fill:white;fill-opacity:1;\" d=\"M 18.214844 0.632812 C 16.109375 1.800781 15.011719 4.074219 15.074219 7.132812 L 15.085938 7.652344 L 14.785156 7.496094 C 13.476562 6.824219 11.957031 6.671875 10.40625 7.066406 C 8.46875 7.550781 6.515625 9.15625 4.394531 11.992188 C 3.0625 13.777344 2.679688 14.636719 3.042969 15.027344 L 3.15625 15.152344 L 3.519531 15.152344 C 4.238281 15.152344 4.828125 14.886719 8.1875 13.039062 C 9.386719 12.378906 10.371094 11.839844 10.378906 11.839844 C 10.386719 11.839844 10.355469 11.929688 10.304688 12.035156 C 9.832031 13.09375 9.257812 14.820312 8.96875 16.078125 C 7.914062 20.652344 8.617188 24.53125 11.070312 27.660156 C 11.351562 28.015625 11.363281 27.914062 10.972656 28.382812 C 8.925781 30.84375 7.945312 33.28125 8.238281 35.1875 C 8.289062 35.527344 8.28125 35.523438 8.917969 35.523438 C 10.941406 35.523438 13.074219 34.207031 15.136719 31.6875 C 15.359375 31.417969 15.328125 31.425781 15.5625 31.574219 C 16.292969 32.042969 18.023438 32.964844 18.175781 32.964844 C 18.335938 32.964844 19.941406 32.210938 20.828125 31.71875 C 20.996094 31.625 21.136719 31.554688 21.136719 31.558594 C 21.203125 31.664062 21.898438 32.414062 22.222656 32.730469 C 23.835938 34.300781 25.5625 35.132812 27.582031 35.300781 C 27.90625 35.328125 27.9375 35.308594 28.007812 34.984375 C 28.382812 33.242188 27.625 30.925781 25.863281 28.425781 L 25.542969 27.96875 L 25.699219 27.785156 C 28.945312 23.960938 29.132812 18.699219 26.257812 11.96875 L 26.207031 11.84375 L 27.945312 12.703125 C 31.53125 14.476562 32.316406 14.800781 33.03125 14.800781 C 33.976562 14.800781 33.78125 13.9375 32.472656 12.292969 C 28.519531 7.355469 25.394531 5.925781 21.921875 7.472656 L 21.558594 7.636719 L 21.578125 7.542969 C 21.699219 6.992188 21.761719 5.742188 21.699219 5.164062 C 21.496094 3.296875 20.664062 1.964844 19.003906 0.855469 C 18.480469 0.503906 18.457031 0.5 18.214844 0.632812\"/>\n",
       "</g>\n",
       "      </svg>\n",
       "    "
      ],
      "text/plain": [
       "<IPython.core.display.HTML object>"
      ]
     },
     "metadata": {},
     "output_type": "display_data"
    }
   ],
   "source": [
    "from ColabTurtle.Turtle import *\n",
    "import ColabTurtle.Turtle as t\n",
    "\n",
    "initializeTurtle()\n",
    "t.shape('turtle')"
   ]
  },
  {
   "cell_type": "code",
   "execution_count": 2,
   "metadata": {},
   "outputs": [
    {
     "data": {
      "text/html": [
       "\n",
       "      <svg width=\"800\" height=\"500\">\n",
       "        <rect width=\"100%\" height=\"100%\" fill=\"black\"/>\n",
       "        <line x1=\"400\" y1=\"250\" x2=\"400.0\" y2=\"200.0\" stroke-linecap=\"round\" style=\"stroke:white;stroke-width:4\"/><line x1=\"400.0\" y1=\"200.0\" x2=\"450.0\" y2=\"200.0\" stroke-linecap=\"round\" style=\"stroke:white;stroke-width:4\"/><line x1=\"450.0\" y1=\"200.0\" x2=\"450.0\" y2=\"250.0\" stroke-linecap=\"round\" style=\"stroke:white;stroke-width:4\"/><line x1=\"450.0\" y1=\"250.0\" x2=\"400.0\" y2=\"250.0\" stroke-linecap=\"round\" style=\"stroke:white;stroke-width:4\"/>\n",
       "        <g visibility=visible transform=\"rotate(270,400.0,250.0) translate(382.0, 232.0)\">\n",
       "<path style=\" stroke:none;fill-rule:evenodd;fill:white;fill-opacity:1;\" d=\"M 18.214844 0.632812 C 16.109375 1.800781 15.011719 4.074219 15.074219 7.132812 L 15.085938 7.652344 L 14.785156 7.496094 C 13.476562 6.824219 11.957031 6.671875 10.40625 7.066406 C 8.46875 7.550781 6.515625 9.15625 4.394531 11.992188 C 3.0625 13.777344 2.679688 14.636719 3.042969 15.027344 L 3.15625 15.152344 L 3.519531 15.152344 C 4.238281 15.152344 4.828125 14.886719 8.1875 13.039062 C 9.386719 12.378906 10.371094 11.839844 10.378906 11.839844 C 10.386719 11.839844 10.355469 11.929688 10.304688 12.035156 C 9.832031 13.09375 9.257812 14.820312 8.96875 16.078125 C 7.914062 20.652344 8.617188 24.53125 11.070312 27.660156 C 11.351562 28.015625 11.363281 27.914062 10.972656 28.382812 C 8.925781 30.84375 7.945312 33.28125 8.238281 35.1875 C 8.289062 35.527344 8.28125 35.523438 8.917969 35.523438 C 10.941406 35.523438 13.074219 34.207031 15.136719 31.6875 C 15.359375 31.417969 15.328125 31.425781 15.5625 31.574219 C 16.292969 32.042969 18.023438 32.964844 18.175781 32.964844 C 18.335938 32.964844 19.941406 32.210938 20.828125 31.71875 C 20.996094 31.625 21.136719 31.554688 21.136719 31.558594 C 21.203125 31.664062 21.898438 32.414062 22.222656 32.730469 C 23.835938 34.300781 25.5625 35.132812 27.582031 35.300781 C 27.90625 35.328125 27.9375 35.308594 28.007812 34.984375 C 28.382812 33.242188 27.625 30.925781 25.863281 28.425781 L 25.542969 27.96875 L 25.699219 27.785156 C 28.945312 23.960938 29.132812 18.699219 26.257812 11.96875 L 26.207031 11.84375 L 27.945312 12.703125 C 31.53125 14.476562 32.316406 14.800781 33.03125 14.800781 C 33.976562 14.800781 33.78125 13.9375 32.472656 12.292969 C 28.519531 7.355469 25.394531 5.925781 21.921875 7.472656 L 21.558594 7.636719 L 21.578125 7.542969 C 21.699219 6.992188 21.761719 5.742188 21.699219 5.164062 C 21.496094 3.296875 20.664062 1.964844 19.003906 0.855469 C 18.480469 0.503906 18.457031 0.5 18.214844 0.632812\"/>\n",
       "</g>\n",
       "      </svg>\n",
       "    "
      ],
      "text/plain": [
       "<IPython.core.display.HTML object>"
      ]
     },
     "metadata": {},
     "output_type": "display_data"
    }
   ],
   "source": [
    "t.initializeTurtle()\n",
    "\n",
    "t.forward(50) # 거북이를 앞으로 50만큼 이동시킵니다. \n",
    "t.right(90) # 거북이를 오른쪽으로 90도 회전시킵니다.\n",
    "t.forward(50)\n",
    "t.right(90)\n",
    "t.forward(50)\n",
    "t.right(90)\n",
    "t.forward(50)"
   ]
  },
  {
   "cell_type": "code",
   "execution_count": 3,
   "metadata": {},
   "outputs": [
    {
     "data": {
      "text/html": [
       "\n",
       "      <svg width=\"800\" height=\"500\">\n",
       "        <rect width=\"100%\" height=\"100%\" fill=\"black\"/>\n",
       "        <line x1=\"400\" y1=\"250\" x2=\"400.0\" y2=\"240.0\" stroke-linecap=\"round\" style=\"stroke:white;stroke-width:4\"/><line x1=\"400.0\" y1=\"240.0\" x2=\"398.955\" y2=\"230.055\" stroke-linecap=\"round\" style=\"stroke:white;stroke-width:4\"/><line x1=\"398.955\" y1=\"230.055\" x2=\"396.876\" y2=\"220.274\" stroke-linecap=\"round\" style=\"stroke:white;stroke-width:4\"/><line x1=\"396.876\" y1=\"220.274\" x2=\"393.786\" y2=\"210.763\" stroke-linecap=\"round\" style=\"stroke:white;stroke-width:4\"/><line x1=\"393.786\" y1=\"210.763\" x2=\"389.719\" y2=\"201.628\" stroke-linecap=\"round\" style=\"stroke:white;stroke-width:4\"/><line x1=\"389.719\" y1=\"201.628\" x2=\"384.719\" y2=\"192.968\" stroke-linecap=\"round\" style=\"stroke:white;stroke-width:4\"/><line x1=\"384.719\" y1=\"192.968\" x2=\"378.841\" y2=\"184.878\" stroke-linecap=\"round\" style=\"stroke:white;stroke-width:4\"/><line x1=\"378.841\" y1=\"184.878\" x2=\"372.15\" y2=\"177.447\" stroke-linecap=\"round\" style=\"stroke:white;stroke-width:4\"/><line x1=\"372.15\" y1=\"177.447\" x2=\"364.719\" y2=\"170.756\" stroke-linecap=\"round\" style=\"stroke:white;stroke-width:4\"/><line x1=\"364.719\" y1=\"170.756\" x2=\"356.629\" y2=\"164.878\" stroke-linecap=\"round\" style=\"stroke:white;stroke-width:4\"/><line x1=\"356.629\" y1=\"164.878\" x2=\"347.969\" y2=\"159.878\" stroke-linecap=\"round\" style=\"stroke:white;stroke-width:4\"/><line x1=\"347.969\" y1=\"159.878\" x2=\"338.834\" y2=\"155.811\" stroke-linecap=\"round\" style=\"stroke:white;stroke-width:4\"/><line x1=\"338.834\" y1=\"155.811\" x2=\"329.323\" y2=\"152.721\" stroke-linecap=\"round\" style=\"stroke:white;stroke-width:4\"/><line x1=\"329.323\" y1=\"152.721\" x2=\"319.542\" y2=\"150.642\" stroke-linecap=\"round\" style=\"stroke:white;stroke-width:4\"/><line x1=\"319.542\" y1=\"150.642\" x2=\"309.597\" y2=\"149.597\" stroke-linecap=\"round\" style=\"stroke:white;stroke-width:4\"/><line x1=\"309.597\" y1=\"149.597\" x2=\"299.597\" y2=\"149.597\" stroke-linecap=\"round\" style=\"stroke:white;stroke-width:4\"/><line x1=\"299.597\" y1=\"149.597\" x2=\"289.652\" y2=\"150.642\" stroke-linecap=\"round\" style=\"stroke:white;stroke-width:4\"/><line x1=\"289.652\" y1=\"150.642\" x2=\"279.871\" y2=\"152.721\" stroke-linecap=\"round\" style=\"stroke:white;stroke-width:4\"/><line x1=\"279.871\" y1=\"152.721\" x2=\"270.36\" y2=\"155.811\" stroke-linecap=\"round\" style=\"stroke:white;stroke-width:4\"/><line x1=\"270.36\" y1=\"155.811\" x2=\"261.225\" y2=\"159.878\" stroke-linecap=\"round\" style=\"stroke:white;stroke-width:4\"/><line x1=\"261.225\" y1=\"159.878\" x2=\"252.565\" y2=\"164.878\" stroke-linecap=\"round\" style=\"stroke:white;stroke-width:4\"/><line x1=\"252.565\" y1=\"164.878\" x2=\"244.475\" y2=\"170.756\" stroke-linecap=\"round\" style=\"stroke:white;stroke-width:4\"/><line x1=\"244.475\" y1=\"170.756\" x2=\"237.044\" y2=\"177.447\" stroke-linecap=\"round\" style=\"stroke:white;stroke-width:4\"/><line x1=\"237.044\" y1=\"177.447\" x2=\"230.353\" y2=\"184.878\" stroke-linecap=\"round\" style=\"stroke:white;stroke-width:4\"/><line x1=\"230.353\" y1=\"184.878\" x2=\"224.475\" y2=\"192.968\" stroke-linecap=\"round\" style=\"stroke:white;stroke-width:4\"/><line x1=\"224.475\" y1=\"192.968\" x2=\"219.475\" y2=\"201.628\" stroke-linecap=\"round\" style=\"stroke:white;stroke-width:4\"/><line x1=\"219.475\" y1=\"201.628\" x2=\"215.408\" y2=\"210.763\" stroke-linecap=\"round\" style=\"stroke:white;stroke-width:4\"/><line x1=\"215.408\" y1=\"210.763\" x2=\"212.318\" y2=\"220.274\" stroke-linecap=\"round\" style=\"stroke:white;stroke-width:4\"/><line x1=\"212.318\" y1=\"220.274\" x2=\"210.239\" y2=\"230.055\" stroke-linecap=\"round\" style=\"stroke:white;stroke-width:4\"/><line x1=\"210.239\" y1=\"230.055\" x2=\"209.194\" y2=\"240.0\" stroke-linecap=\"round\" style=\"stroke:white;stroke-width:4\"/><line x1=\"209.194\" y1=\"240.0\" x2=\"209.194\" y2=\"250.0\" stroke-linecap=\"round\" style=\"stroke:white;stroke-width:4\"/><line x1=\"209.194\" y1=\"250.0\" x2=\"210.239\" y2=\"259.945\" stroke-linecap=\"round\" style=\"stroke:white;stroke-width:4\"/><line x1=\"210.239\" y1=\"259.945\" x2=\"212.318\" y2=\"269.726\" stroke-linecap=\"round\" style=\"stroke:white;stroke-width:4\"/><line x1=\"212.318\" y1=\"269.726\" x2=\"215.408\" y2=\"279.237\" stroke-linecap=\"round\" style=\"stroke:white;stroke-width:4\"/><line x1=\"215.408\" y1=\"279.237\" x2=\"219.475\" y2=\"288.372\" stroke-linecap=\"round\" style=\"stroke:white;stroke-width:4\"/><line x1=\"219.475\" y1=\"288.372\" x2=\"224.475\" y2=\"297.032\" stroke-linecap=\"round\" style=\"stroke:white;stroke-width:4\"/><line x1=\"224.475\" y1=\"297.032\" x2=\"230.353\" y2=\"305.122\" stroke-linecap=\"round\" style=\"stroke:white;stroke-width:4\"/><line x1=\"230.353\" y1=\"305.122\" x2=\"237.044\" y2=\"312.553\" stroke-linecap=\"round\" style=\"stroke:white;stroke-width:4\"/><line x1=\"237.044\" y1=\"312.553\" x2=\"244.475\" y2=\"319.244\" stroke-linecap=\"round\" style=\"stroke:white;stroke-width:4\"/><line x1=\"244.475\" y1=\"319.244\" x2=\"252.565\" y2=\"325.122\" stroke-linecap=\"round\" style=\"stroke:white;stroke-width:4\"/><line x1=\"252.565\" y1=\"325.122\" x2=\"261.225\" y2=\"330.122\" stroke-linecap=\"round\" style=\"stroke:white;stroke-width:4\"/><line x1=\"261.225\" y1=\"330.122\" x2=\"270.36\" y2=\"334.189\" stroke-linecap=\"round\" style=\"stroke:white;stroke-width:4\"/><line x1=\"270.36\" y1=\"334.189\" x2=\"279.871\" y2=\"337.279\" stroke-linecap=\"round\" style=\"stroke:white;stroke-width:4\"/><line x1=\"279.871\" y1=\"337.279\" x2=\"289.652\" y2=\"339.358\" stroke-linecap=\"round\" style=\"stroke:white;stroke-width:4\"/><line x1=\"289.652\" y1=\"339.358\" x2=\"299.597\" y2=\"340.403\" stroke-linecap=\"round\" style=\"stroke:white;stroke-width:4\"/><line x1=\"299.597\" y1=\"340.403\" x2=\"309.597\" y2=\"340.403\" stroke-linecap=\"round\" style=\"stroke:white;stroke-width:4\"/><line x1=\"309.597\" y1=\"340.403\" x2=\"319.542\" y2=\"339.358\" stroke-linecap=\"round\" style=\"stroke:white;stroke-width:4\"/><line x1=\"319.542\" y1=\"339.358\" x2=\"329.323\" y2=\"337.279\" stroke-linecap=\"round\" style=\"stroke:white;stroke-width:4\"/><line x1=\"329.323\" y1=\"337.279\" x2=\"338.834\" y2=\"334.189\" stroke-linecap=\"round\" style=\"stroke:white;stroke-width:4\"/><line x1=\"338.834\" y1=\"334.189\" x2=\"347.969\" y2=\"330.122\" stroke-linecap=\"round\" style=\"stroke:white;stroke-width:4\"/><line x1=\"347.969\" y1=\"330.122\" x2=\"356.629\" y2=\"325.122\" stroke-linecap=\"round\" style=\"stroke:white;stroke-width:4\"/><line x1=\"356.629\" y1=\"325.122\" x2=\"364.719\" y2=\"319.244\" stroke-linecap=\"round\" style=\"stroke:white;stroke-width:4\"/><line x1=\"364.719\" y1=\"319.244\" x2=\"372.15\" y2=\"312.553\" stroke-linecap=\"round\" style=\"stroke:white;stroke-width:4\"/><line x1=\"372.15\" y1=\"312.553\" x2=\"378.841\" y2=\"305.122\" stroke-linecap=\"round\" style=\"stroke:white;stroke-width:4\"/><line x1=\"378.841\" y1=\"305.122\" x2=\"384.719\" y2=\"297.032\" stroke-linecap=\"round\" style=\"stroke:white;stroke-width:4\"/><line x1=\"384.719\" y1=\"297.032\" x2=\"389.719\" y2=\"288.372\" stroke-linecap=\"round\" style=\"stroke:white;stroke-width:4\"/><line x1=\"389.719\" y1=\"288.372\" x2=\"393.786\" y2=\"279.237\" stroke-linecap=\"round\" style=\"stroke:white;stroke-width:4\"/><line x1=\"393.786\" y1=\"279.237\" x2=\"396.876\" y2=\"269.726\" stroke-linecap=\"round\" style=\"stroke:white;stroke-width:4\"/><line x1=\"396.876\" y1=\"269.726\" x2=\"398.955\" y2=\"259.945\" stroke-linecap=\"round\" style=\"stroke:white;stroke-width:4\"/><line x1=\"398.955\" y1=\"259.945\" x2=\"400.0\" y2=\"250.0\" stroke-linecap=\"round\" style=\"stroke:white;stroke-width:4\"/>\n",
       "        <g visibility=visible transform=\"rotate(360.0,400.0,250.0) translate(382.0, 232.0)\">\n",
       "<path style=\" stroke:none;fill-rule:evenodd;fill:white;fill-opacity:1;\" d=\"M 18.214844 0.632812 C 16.109375 1.800781 15.011719 4.074219 15.074219 7.132812 L 15.085938 7.652344 L 14.785156 7.496094 C 13.476562 6.824219 11.957031 6.671875 10.40625 7.066406 C 8.46875 7.550781 6.515625 9.15625 4.394531 11.992188 C 3.0625 13.777344 2.679688 14.636719 3.042969 15.027344 L 3.15625 15.152344 L 3.519531 15.152344 C 4.238281 15.152344 4.828125 14.886719 8.1875 13.039062 C 9.386719 12.378906 10.371094 11.839844 10.378906 11.839844 C 10.386719 11.839844 10.355469 11.929688 10.304688 12.035156 C 9.832031 13.09375 9.257812 14.820312 8.96875 16.078125 C 7.914062 20.652344 8.617188 24.53125 11.070312 27.660156 C 11.351562 28.015625 11.363281 27.914062 10.972656 28.382812 C 8.925781 30.84375 7.945312 33.28125 8.238281 35.1875 C 8.289062 35.527344 8.28125 35.523438 8.917969 35.523438 C 10.941406 35.523438 13.074219 34.207031 15.136719 31.6875 C 15.359375 31.417969 15.328125 31.425781 15.5625 31.574219 C 16.292969 32.042969 18.023438 32.964844 18.175781 32.964844 C 18.335938 32.964844 19.941406 32.210938 20.828125 31.71875 C 20.996094 31.625 21.136719 31.554688 21.136719 31.558594 C 21.203125 31.664062 21.898438 32.414062 22.222656 32.730469 C 23.835938 34.300781 25.5625 35.132812 27.582031 35.300781 C 27.90625 35.328125 27.9375 35.308594 28.007812 34.984375 C 28.382812 33.242188 27.625 30.925781 25.863281 28.425781 L 25.542969 27.96875 L 25.699219 27.785156 C 28.945312 23.960938 29.132812 18.699219 26.257812 11.96875 L 26.207031 11.84375 L 27.945312 12.703125 C 31.53125 14.476562 32.316406 14.800781 33.03125 14.800781 C 33.976562 14.800781 33.78125 13.9375 32.472656 12.292969 C 28.519531 7.355469 25.394531 5.925781 21.921875 7.472656 L 21.558594 7.636719 L 21.578125 7.542969 C 21.699219 6.992188 21.761719 5.742188 21.699219 5.164062 C 21.496094 3.296875 20.664062 1.964844 19.003906 0.855469 C 18.480469 0.503906 18.457031 0.5 18.214844 0.632812\"/>\n",
       "</g>\n",
       "      </svg>\n",
       "    "
      ],
      "text/plain": [
       "<IPython.core.display.HTML object>"
      ]
     },
     "metadata": {},
     "output_type": "display_data"
    }
   ],
   "source": [
    "#거북이로 원 그리기\n",
    "def Circle(length, n): # def는 definition의 약자로 함수를 만들때 사용합니다. \n",
    "    for x in range(n): # for는 무엇인가를 반복시킬 때 사용합니다.\n",
    "        t.forward(length)\n",
    "        t.left(360 / n)\n",
    "\n",
    "t.initializeTurtle()\n",
    "t.speed(7)\n",
    "\n",
    "Circle(10, 60)"
   ]
  },
  {
   "cell_type": "code",
   "execution_count": 4,
   "metadata": {},
   "outputs": [
    {
     "data": {
      "text/html": [
       "\n",
       "      <svg width=\"800\" height=\"500\">\n",
       "        <rect width=\"100%\" height=\"100%\" fill=\"black\"/>\n",
       "        <line x1=\"400\" y1=\"250\" x2=\"400.0\" y2=\"230.0\" stroke-linecap=\"round\" style=\"stroke:white;stroke-width:4\"/><line x1=\"400.0\" y1=\"230.0\" x2=\"397.909\" y2=\"210.11\" stroke-linecap=\"round\" style=\"stroke:red;stroke-width:4\"/><line x1=\"397.909\" y1=\"210.11\" x2=\"393.751\" y2=\"190.547\" stroke-linecap=\"round\" style=\"stroke:yellow;stroke-width:4\"/><line x1=\"393.751\" y1=\"190.547\" x2=\"387.571\" y2=\"171.526\" stroke-linecap=\"round\" style=\"stroke:purple;stroke-width:4\"/><line x1=\"387.571\" y1=\"171.526\" x2=\"379.436\" y2=\"153.255\" stroke-linecap=\"round\" style=\"stroke:red;stroke-width:4\"/><line x1=\"379.436\" y1=\"153.255\" x2=\"369.436\" y2=\"135.934\" stroke-linecap=\"round\" style=\"stroke:yellow;stroke-width:4\"/><line x1=\"369.436\" y1=\"135.934\" x2=\"357.68\" y2=\"119.754\" stroke-linecap=\"round\" style=\"stroke:purple;stroke-width:4\"/><line x1=\"357.68\" y1=\"119.754\" x2=\"344.297\" y2=\"104.891\" stroke-linecap=\"round\" style=\"stroke:red;stroke-width:4\"/><line x1=\"344.297\" y1=\"104.891\" x2=\"329.434\" y2=\"91.508\" stroke-linecap=\"round\" style=\"stroke:yellow;stroke-width:4\"/><line x1=\"329.434\" y1=\"91.508\" x2=\"313.254\" y2=\"79.752\" stroke-linecap=\"round\" style=\"stroke:purple;stroke-width:4\"/><line x1=\"313.254\" y1=\"79.752\" x2=\"295.933\" y2=\"69.752\" stroke-linecap=\"round\" style=\"stroke:red;stroke-width:4\"/><line x1=\"295.933\" y1=\"69.752\" x2=\"277.662\" y2=\"61.617\" stroke-linecap=\"round\" style=\"stroke:yellow;stroke-width:4\"/><line x1=\"277.662\" y1=\"61.617\" x2=\"258.641\" y2=\"55.437\" stroke-linecap=\"round\" style=\"stroke:purple;stroke-width:4\"/><line x1=\"258.641\" y1=\"55.437\" x2=\"239.078\" y2=\"51.279\" stroke-linecap=\"round\" style=\"stroke:red;stroke-width:4\"/><line x1=\"239.078\" y1=\"51.279\" x2=\"219.188\" y2=\"49.188\" stroke-linecap=\"round\" style=\"stroke:yellow;stroke-width:4\"/><line x1=\"219.188\" y1=\"49.188\" x2=\"199.188\" y2=\"49.188\" stroke-linecap=\"round\" style=\"stroke:purple;stroke-width:4\"/><line x1=\"199.188\" y1=\"49.188\" x2=\"179.298\" y2=\"51.279\" stroke-linecap=\"round\" style=\"stroke:red;stroke-width:4\"/><line x1=\"179.298\" y1=\"51.279\" x2=\"159.735\" y2=\"55.437\" stroke-linecap=\"round\" style=\"stroke:yellow;stroke-width:4\"/><line x1=\"159.735\" y1=\"55.437\" x2=\"140.714\" y2=\"61.617\" stroke-linecap=\"round\" style=\"stroke:purple;stroke-width:4\"/><line x1=\"140.714\" y1=\"61.617\" x2=\"122.443\" y2=\"69.752\" stroke-linecap=\"round\" style=\"stroke:red;stroke-width:4\"/><line x1=\"122.443\" y1=\"69.752\" x2=\"105.122\" y2=\"79.752\" stroke-linecap=\"round\" style=\"stroke:yellow;stroke-width:4\"/><line x1=\"105.122\" y1=\"79.752\" x2=\"88.942\" y2=\"91.508\" stroke-linecap=\"round\" style=\"stroke:purple;stroke-width:4\"/><line x1=\"88.942\" y1=\"91.508\" x2=\"74.079\" y2=\"104.891\" stroke-linecap=\"round\" style=\"stroke:red;stroke-width:4\"/><line x1=\"74.079\" y1=\"104.891\" x2=\"60.696\" y2=\"119.754\" stroke-linecap=\"round\" style=\"stroke:yellow;stroke-width:4\"/><line x1=\"60.696\" y1=\"119.754\" x2=\"48.94\" y2=\"135.934\" stroke-linecap=\"round\" style=\"stroke:purple;stroke-width:4\"/><line x1=\"48.94\" y1=\"135.934\" x2=\"38.94\" y2=\"153.255\" stroke-linecap=\"round\" style=\"stroke:red;stroke-width:4\"/><line x1=\"38.94\" y1=\"153.255\" x2=\"30.805\" y2=\"171.526\" stroke-linecap=\"round\" style=\"stroke:yellow;stroke-width:4\"/><line x1=\"30.805\" y1=\"171.526\" x2=\"24.625\" y2=\"190.547\" stroke-linecap=\"round\" style=\"stroke:purple;stroke-width:4\"/><line x1=\"24.625\" y1=\"190.547\" x2=\"20.467\" y2=\"210.11\" stroke-linecap=\"round\" style=\"stroke:red;stroke-width:4\"/><line x1=\"20.467\" y1=\"210.11\" x2=\"18.376\" y2=\"230.0\" stroke-linecap=\"round\" style=\"stroke:yellow;stroke-width:4\"/><line x1=\"18.376\" y1=\"230.0\" x2=\"18.376\" y2=\"250.0\" stroke-linecap=\"round\" style=\"stroke:purple;stroke-width:4\"/><line x1=\"18.376\" y1=\"250.0\" x2=\"20.467\" y2=\"269.89\" stroke-linecap=\"round\" style=\"stroke:red;stroke-width:4\"/><line x1=\"20.467\" y1=\"269.89\" x2=\"24.625\" y2=\"289.453\" stroke-linecap=\"round\" style=\"stroke:yellow;stroke-width:4\"/><line x1=\"24.625\" y1=\"289.453\" x2=\"30.805\" y2=\"308.474\" stroke-linecap=\"round\" style=\"stroke:purple;stroke-width:4\"/><line x1=\"30.805\" y1=\"308.474\" x2=\"38.94\" y2=\"326.745\" stroke-linecap=\"round\" style=\"stroke:red;stroke-width:4\"/><line x1=\"38.94\" y1=\"326.745\" x2=\"48.94\" y2=\"344.066\" stroke-linecap=\"round\" style=\"stroke:yellow;stroke-width:4\"/><line x1=\"48.94\" y1=\"344.066\" x2=\"60.696\" y2=\"360.246\" stroke-linecap=\"round\" style=\"stroke:purple;stroke-width:4\"/><line x1=\"60.696\" y1=\"360.246\" x2=\"74.079\" y2=\"375.109\" stroke-linecap=\"round\" style=\"stroke:red;stroke-width:4\"/><line x1=\"74.079\" y1=\"375.109\" x2=\"88.942\" y2=\"388.492\" stroke-linecap=\"round\" style=\"stroke:yellow;stroke-width:4\"/><line x1=\"88.942\" y1=\"388.492\" x2=\"105.122\" y2=\"400.248\" stroke-linecap=\"round\" style=\"stroke:purple;stroke-width:4\"/><line x1=\"105.122\" y1=\"400.248\" x2=\"122.443\" y2=\"410.248\" stroke-linecap=\"round\" style=\"stroke:red;stroke-width:4\"/><line x1=\"122.443\" y1=\"410.248\" x2=\"140.714\" y2=\"418.383\" stroke-linecap=\"round\" style=\"stroke:yellow;stroke-width:4\"/><line x1=\"140.714\" y1=\"418.383\" x2=\"159.735\" y2=\"424.563\" stroke-linecap=\"round\" style=\"stroke:purple;stroke-width:4\"/><line x1=\"159.735\" y1=\"424.563\" x2=\"179.298\" y2=\"428.721\" stroke-linecap=\"round\" style=\"stroke:red;stroke-width:4\"/><line x1=\"179.298\" y1=\"428.721\" x2=\"199.188\" y2=\"430.812\" stroke-linecap=\"round\" style=\"stroke:yellow;stroke-width:4\"/><line x1=\"199.188\" y1=\"430.812\" x2=\"219.188\" y2=\"430.812\" stroke-linecap=\"round\" style=\"stroke:purple;stroke-width:4\"/><line x1=\"219.188\" y1=\"430.812\" x2=\"239.078\" y2=\"428.721\" stroke-linecap=\"round\" style=\"stroke:red;stroke-width:4\"/><line x1=\"239.078\" y1=\"428.721\" x2=\"258.641\" y2=\"424.563\" stroke-linecap=\"round\" style=\"stroke:yellow;stroke-width:4\"/><line x1=\"258.641\" y1=\"424.563\" x2=\"277.662\" y2=\"418.383\" stroke-linecap=\"round\" style=\"stroke:purple;stroke-width:4\"/><line x1=\"277.662\" y1=\"418.383\" x2=\"295.933\" y2=\"410.248\" stroke-linecap=\"round\" style=\"stroke:red;stroke-width:4\"/><line x1=\"295.933\" y1=\"410.248\" x2=\"313.254\" y2=\"400.248\" stroke-linecap=\"round\" style=\"stroke:yellow;stroke-width:4\"/><line x1=\"313.254\" y1=\"400.248\" x2=\"329.434\" y2=\"388.492\" stroke-linecap=\"round\" style=\"stroke:purple;stroke-width:4\"/><line x1=\"329.434\" y1=\"388.492\" x2=\"344.297\" y2=\"375.109\" stroke-linecap=\"round\" style=\"stroke:red;stroke-width:4\"/><line x1=\"344.297\" y1=\"375.109\" x2=\"357.68\" y2=\"360.246\" stroke-linecap=\"round\" style=\"stroke:yellow;stroke-width:4\"/><line x1=\"357.68\" y1=\"360.246\" x2=\"369.436\" y2=\"344.066\" stroke-linecap=\"round\" style=\"stroke:purple;stroke-width:4\"/><line x1=\"369.436\" y1=\"344.066\" x2=\"379.436\" y2=\"326.745\" stroke-linecap=\"round\" style=\"stroke:red;stroke-width:4\"/><line x1=\"379.436\" y1=\"326.745\" x2=\"387.571\" y2=\"308.474\" stroke-linecap=\"round\" style=\"stroke:yellow;stroke-width:4\"/><line x1=\"387.571\" y1=\"308.474\" x2=\"393.751\" y2=\"289.453\" stroke-linecap=\"round\" style=\"stroke:purple;stroke-width:4\"/><line x1=\"393.751\" y1=\"289.453\" x2=\"397.909\" y2=\"269.89\" stroke-linecap=\"round\" style=\"stroke:red;stroke-width:4\"/><line x1=\"397.909\" y1=\"269.89\" x2=\"400.0\" y2=\"250.0\" stroke-linecap=\"round\" style=\"stroke:yellow;stroke-width:4\"/>\n",
       "        <g visibility=visible transform=\"rotate(360.0,400.0,250.0) translate(382.0, 232.0)\">\n",
       "<path style=\" stroke:none;fill-rule:evenodd;fill:purple;fill-opacity:1;\" d=\"M 18.214844 0.632812 C 16.109375 1.800781 15.011719 4.074219 15.074219 7.132812 L 15.085938 7.652344 L 14.785156 7.496094 C 13.476562 6.824219 11.957031 6.671875 10.40625 7.066406 C 8.46875 7.550781 6.515625 9.15625 4.394531 11.992188 C 3.0625 13.777344 2.679688 14.636719 3.042969 15.027344 L 3.15625 15.152344 L 3.519531 15.152344 C 4.238281 15.152344 4.828125 14.886719 8.1875 13.039062 C 9.386719 12.378906 10.371094 11.839844 10.378906 11.839844 C 10.386719 11.839844 10.355469 11.929688 10.304688 12.035156 C 9.832031 13.09375 9.257812 14.820312 8.96875 16.078125 C 7.914062 20.652344 8.617188 24.53125 11.070312 27.660156 C 11.351562 28.015625 11.363281 27.914062 10.972656 28.382812 C 8.925781 30.84375 7.945312 33.28125 8.238281 35.1875 C 8.289062 35.527344 8.28125 35.523438 8.917969 35.523438 C 10.941406 35.523438 13.074219 34.207031 15.136719 31.6875 C 15.359375 31.417969 15.328125 31.425781 15.5625 31.574219 C 16.292969 32.042969 18.023438 32.964844 18.175781 32.964844 C 18.335938 32.964844 19.941406 32.210938 20.828125 31.71875 C 20.996094 31.625 21.136719 31.554688 21.136719 31.558594 C 21.203125 31.664062 21.898438 32.414062 22.222656 32.730469 C 23.835938 34.300781 25.5625 35.132812 27.582031 35.300781 C 27.90625 35.328125 27.9375 35.308594 28.007812 34.984375 C 28.382812 33.242188 27.625 30.925781 25.863281 28.425781 L 25.542969 27.96875 L 25.699219 27.785156 C 28.945312 23.960938 29.132812 18.699219 26.257812 11.96875 L 26.207031 11.84375 L 27.945312 12.703125 C 31.53125 14.476562 32.316406 14.800781 33.03125 14.800781 C 33.976562 14.800781 33.78125 13.9375 32.472656 12.292969 C 28.519531 7.355469 25.394531 5.925781 21.921875 7.472656 L 21.558594 7.636719 L 21.578125 7.542969 C 21.699219 6.992188 21.761719 5.742188 21.699219 5.164062 C 21.496094 3.296875 20.664062 1.964844 19.003906 0.855469 C 18.480469 0.503906 18.457031 0.5 18.214844 0.632812\"/>\n",
       "</g>\n",
       "      </svg>\n",
       "    "
      ],
      "text/plain": [
       "<IPython.core.display.HTML object>"
      ]
     },
     "metadata": {},
     "output_type": "display_data"
    }
   ],
   "source": [
    "#거북이로 원 그리기 (색깔 부여하기)\n",
    "colors=[\"red\", \"yellow\", \"purple\"] # 사용할 색깔 정의하기\n",
    "\n",
    "def Circle(length, n):\n",
    "    for x in range(n):\n",
    "        t.forward(length)\n",
    "        t.color(colors[x%3]) # %는 나눗셈을 한 나머지를 구할 수 있습니다.\n",
    "        t.left(360 / n)\n",
    "\n",
    "t.initializeTurtle()\n",
    "t.speed(7)\n",
    "\n",
    "Circle(20, 60)"
   ]
  },
  {
   "cell_type": "code",
   "execution_count": null,
   "metadata": {},
   "outputs": [],
   "source": []
  }
 ],
 "metadata": {
  "kernelspec": {
   "display_name": "Python 3.9.12 ('base')",
   "language": "python",
   "name": "python3"
  },
  "language_info": {
   "codemirror_mode": {
    "name": "ipython",
    "version": 3
   },
   "file_extension": ".py",
   "mimetype": "text/x-python",
   "name": "python",
   "nbconvert_exporter": "python",
   "pygments_lexer": "ipython3",
   "version": "3.9.12"
  },
  "orig_nbformat": 4,
  "vscode": {
   "interpreter": {
    "hash": "04f264c9f04f7c6d1a1e5f9fded89ff150ec7f969a926ef69b3c04d099cccdc4"
   }
  }
 },
 "nbformat": 4,
 "nbformat_minor": 2
}
