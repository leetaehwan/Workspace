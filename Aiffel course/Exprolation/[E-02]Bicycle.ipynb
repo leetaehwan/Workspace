{
 "cells": [
  {
   "cell_type": "markdown",
   "metadata": {},
   "source": [
    "# 머신러닝의 본질을 관통하는 철학과 과정을 깊게 파고들기\n",
    "\n",
    "간단한 모델을 실습하며, 이면에 숨어있는 과정과 엄밀한 개념들을 전부 뜯어보자."
   ]
  },
  {
   "cell_type": "code",
   "execution_count": 9,
   "metadata": {},
   "outputs": [],
   "source": [
    "from IPython.display import display, Image\n",
    "import pandas as pd\n",
    "import numpy as np\n",
    "import matplotlib.pyplot as plt\n",
    "%matplotlib inline\n",
    "%config InlineBackend.figure_format = 'retina'"
   ]
  },
  {
   "cell_type": "markdown",
   "metadata": {},
   "source": [
    "%config InlineBackend.figure_format = 'retina' # 더 높은 해상도로 출력한다."
   ]
  },
  {
   "cell_type": "markdown",
   "metadata": {},
   "source": [
    "## 맥북의 중고가를 파악해보는 예제\n",
    "'사용연한'의 입력값을 넣어, '중고가격'을 출력하는 모델을 만들어본다.\n",
    "\n",
    "먼저 'macbook.csv'를 불러오자."
   ]
  },
  {
   "cell_type": "code",
   "execution_count": 10,
   "metadata": {},
   "outputs": [
    {
     "name": "stdout",
     "output_type": "stream",
     "text": [
      "(80, 2)\n"
     ]
    },
    {
     "data": {
      "text/html": [
       "<div>\n",
       "<style scoped>\n",
       "    .dataframe tbody tr th:only-of-type {\n",
       "        vertical-align: middle;\n",
       "    }\n",
       "\n",
       "    .dataframe tbody tr th {\n",
       "        vertical-align: top;\n",
       "    }\n",
       "\n",
       "    .dataframe thead th {\n",
       "        text-align: right;\n",
       "    }\n",
       "</style>\n",
       "<table border=\"1\" class=\"dataframe\">\n",
       "  <thead>\n",
       "    <tr style=\"text-align: right;\">\n",
       "      <th></th>\n",
       "      <th>used_years</th>\n",
       "      <th>price</th>\n",
       "    </tr>\n",
       "  </thead>\n",
       "  <tbody>\n",
       "    <tr>\n",
       "      <th>0</th>\n",
       "      <td>2.65</td>\n",
       "      <td>175</td>\n",
       "    </tr>\n",
       "    <tr>\n",
       "      <th>1</th>\n",
       "      <td>3.80</td>\n",
       "      <td>63</td>\n",
       "    </tr>\n",
       "    <tr>\n",
       "      <th>2</th>\n",
       "      <td>0.95</td>\n",
       "      <td>273</td>\n",
       "    </tr>\n",
       "    <tr>\n",
       "      <th>3</th>\n",
       "      <td>4.50</td>\n",
       "      <td>133</td>\n",
       "    </tr>\n",
       "    <tr>\n",
       "      <th>4</th>\n",
       "      <td>4.45</td>\n",
       "      <td>106</td>\n",
       "    </tr>\n",
       "  </tbody>\n",
       "</table>\n",
       "</div>"
      ],
      "text/plain": [
       "   used_years  price\n",
       "0        2.65    175\n",
       "1        3.80     63\n",
       "2        0.95    273\n",
       "3        4.50    133\n",
       "4        4.45    106"
      ]
     },
     "execution_count": 10,
     "metadata": {},
     "output_type": "execute_result"
    }
   ],
   "source": [
    "macbook = pd.read_csv('./data/macbook.csv')\n",
    "print(macbook.shape)\n",
    "macbook.head()"
   ]
  },
  {
   "cell_type": "code",
   "execution_count": 11,
   "metadata": {},
   "outputs": [
    {
     "data": {
      "image/png": "[encoded data removed]",
      "text/plain": [
       "<Figure size 432x288 with 1 Axes>"
      ]
     },
     "metadata": {
      "image/png": {
       "height": 248,
       "width": 375
      },
      "needs_background": "light"
     },
     "output_type": "display_data"
    }
   ],
   "source": [
    "plt.scatter(macbook['used_years'],macbook['price'])\n",
    "plt.show()"
   ]
  },
  {
   "cell_type": "markdown",
   "metadata": {},
   "source": [
    "해당 데이터셋은 입력값인 '사용연한'이 증가하면, 결과값인 '중고가격'은 반대로 줄어든다.\n",
    "\n",
    "이렇게 증가하면, 감소하거나 감소하면, 증가하는 관계를 음의 상관관계라고 한다.\n",
    "\n",
    "지금은 음의 상관관계를 가지고 있는데\n",
    "결과값들이 회귀모델 직선에 가까우면 -1에 가까워지고,\n",
    "결과값들이 회귀모델 직선에서 멀면 0에 가까워진다.\n",
    "\n",
    "계수의 값을 보기 위해서는 넘파이의 corrcoef(x,y)라는 함수를 보면 된다."
   ]
  },
  {
   "cell_type": "code",
   "execution_count": 74,
   "metadata": {},
   "outputs": [
    {
     "data": {
      "text/plain": [
       "array([[ 1.        , -0.78972238],\n",
       "       [-0.78972238,  1.        ]])"
      ]
     },
     "execution_count": 74,
     "metadata": {},
     "output_type": "execute_result"
    }
   ],
   "source": [
    "np.corrcoef(macbook['used_years'],macbook['price'])"
   ]
  },
  {
   "cell_type": "markdown",
   "metadata": {},
   "source": [
    "[1,1]과 [2,2]의 위치에 존재하는 것은 자신과의 상관계수이므로 여기에선 당연히 1이 나온다.\n",
    "\n",
    "따라서 'uesd_years'와 'price'와 위치가 교차하는 [1,2]와 [2,1]의 상관계수가 서로의 상관계수이다.\n",
    "\n",
    "여기서는 -0.78972...의 값을 출력한다."
   ]
  },
  {
   "cell_type": "markdown",
   "metadata": {},
   "source": [
    "## 모델을 만든다는 의미\n",
    "\n",
    "사용연수를 feature로 해서\n",
    "중고가의 label을 넣어서 모델을 만든다.\n",
    "\n",
    "이처럼 모델은 '특정 정보를 입력받아서, 그 정보에 따라 원하는 값을 예측하여 값을 출력하는 함수'라고 이해한다.\n",
    "\n",
    "우리는 '사용연한'을 feature로 '중고가격'을 label로 넣어서 모델을 만들자."
   ]
  },
  {
   "cell_type": "code",
   "execution_count": 88,
   "metadata": {},
   "outputs": [],
   "source": [
    "X = macbook['used_years'].values\n",
    "y = macbook['price'].values"
   ]
  },
  {
   "cell_type": "markdown",
   "metadata": {},
   "source": [
    "## 일차함수 모델 만들기"
   ]
  },
  {
   "cell_type": "code",
   "execution_count": 32,
   "metadata": {},
   "outputs": [
    {
     "data": {
      "text/plain": [
       "11"
      ]
     },
     "execution_count": 32,
     "metadata": {},
     "output_type": "execute_result"
    }
   ],
   "source": [
    "def model(x,w,b):\n",
    "  y = w * x + b\n",
    "  return y\n",
    "\n",
    "model(x=5, w=2, b=1)"
   ]
  },
  {
   "cell_type": "markdown",
   "metadata": {},
   "source": [
    "1차 함수 모델을 만들었다.\n",
    "\n",
    "그럼 최적화된 weight(기울기)와 bias(절편)을 훈련시키는지 보자.\n",
    "\n",
    "모델을 학습시킨다는 건 입력받은 train dataset에서 정답값에 가까운 출력을 낼 수 있는 최적의 매개변수(w,b)를 찾는 것이다.\n",
    "즉 방정식을 풀여야 한다.\n",
    "\n",
    "사용연수가 2년인 맥북의 중고가: 100만 원 -> 100 = w * 2 + b\n",
    "사용연수가 5년인 맥북의 중고가: 40만 원 -> 40 = w * 5 + b\n",
    "\n",
    "이 두 식을 연립방정식으로 풀면 w = -20, b = 140을 쉽게 알 수 있다.\n",
    "\n",
    "6년이 된 맥북의 가격은 위 식을 통해 예측할 수 있는데, 20만원이다.\n",
    "\n",
    "(2, 100), (5, 40), (6, 20) 세 가지 점을 그래프로 그려보면 다음과 같습니다."
   ]
  },
  {
   "cell_type": "code",
   "execution_count": 90,
   "metadata": {},
   "outputs": [
    {
     "data": {
      "image/png": "[encoded data removed]",
      "text/plain": [
       "<Figure size 432x288 with 1 Axes>"
      ]
     },
     "metadata": {
      "image/png": {
       "height": 248,
       "width": 377
      },
      "needs_background": "light"
     },
     "output_type": "display_data"
    }
   ],
   "source": [
    "# x축, y축 그리기\n",
    "plt.axvline(x=0, c='black')\n",
    "plt.axhline(y=0, c='black')\n",
    "\n",
    "# y = wx + b 일차함수 그리기\n",
    "x = np.linspace(0, 8, 9)\n",
    "y = model(x, w=-20, b=140) # y = -20x + 140\n",
    "plt.plot(y)\n",
    "\n",
    "# 나의 (x, y) 점 찍기\n",
    "x_data = [2, 5, 6]\n",
    "y_data = [100, 40, 20]\n",
    "plt.scatter(x_data, y_data, c='r', s=50)\n",
    "\n",
    "plt.show()"
   ]
  },
  {
   "cell_type": "markdown",
   "metadata": {},
   "source": [
    "모두 일직선 모델의 방정식에 들어간다.\n",
    "\n",
    "하지만 실제 데이터 셋은 2개로 예측해서 찍어내지 못하는 경우가 많다.\n",
    "\n",
    "맥북의 중고가 데이터도 직선위에 모든 데이터가 위치하지 않는다."
   ]
  },
  {
   "cell_type": "code",
   "execution_count": 78,
   "metadata": {},
   "outputs": [
    {
     "data": {
      "image/png": "[encoded data removed]",
      "text/plain": [
       "<Figure size 432x288 with 1 Axes>"
      ]
     },
     "metadata": {
      "image/png": {
       "height": 248,
       "width": 375
      },
      "needs_background": "light"
     },
     "output_type": "display_data"
    }
   ],
   "source": [
    "plt.scatter(macbook['used_years'], macbook['price'])\n",
    "plt.show()"
   ]
  },
  {
   "cell_type": "markdown",
   "metadata": {},
   "source": [
    "## 정답이 아닌 최적의 방정식을 구하는 여정\n",
    "앞서 데이터를 들여다 본 것과 같이, 데이터는 하나의 모델에 정확하게 일치하지 않는다.\n",
    "모델과 데이터간의 오차가 있는데 이러한 오차의 합들을 나타낸 함수가 손실함수다.\n",
    "이러한 함수가 최소값을 같도록 하면 최적의 함수를 찾을 수 있지 않을까?\n",
    "\n",
    "불완전한 임의의 모델을 만들어보자."
   ]
  },
  {
   "cell_type": "code",
   "execution_count": 4,
   "metadata": {},
   "outputs": [
    {
     "ename": "NameError",
     "evalue": "name 'np' is not defined",
     "output_type": "error",
     "traceback": [
      "\u001b[0;31m---------------------------------------------------------------------------\u001b[0m",
      "\u001b[0;31mNameError\u001b[0m                                 Traceback (most recent call last)",
      "\u001b[1;32m/Users/taehwan/Workspace/Workspace/Aiffel course/Exprolation/[E-02]Bicycle.ipynb 셀 19\u001b[0m in \u001b[0;36m<cell line: 4>\u001b[0;34m()\u001b[0m\n\u001b[1;32m      <a href='vscode-notebook-cell:/Users/taehwan/Workspace/Workspace/Aiffel%20course/Exprolation/%5BE-02%5DBicycle.ipynb#X30sZmlsZQ%3D%3D?line=0'>1</a>\u001b[0m w \u001b[39m=\u001b[39m \u001b[39m3.1\u001b[39m\n\u001b[1;32m      <a href='vscode-notebook-cell:/Users/taehwan/Workspace/Workspace/Aiffel%20course/Exprolation/%5BE-02%5DBicycle.ipynb#X30sZmlsZQ%3D%3D?line=1'>2</a>\u001b[0m b \u001b[39m=\u001b[39m \u001b[39m2.3\u001b[39m\n\u001b[0;32m----> <a href='vscode-notebook-cell:/Users/taehwan/Workspace/Workspace/Aiffel%20course/Exprolation/%5BE-02%5DBicycle.ipynb#X30sZmlsZQ%3D%3D?line=3'>4</a>\u001b[0m x \u001b[39m=\u001b[39m np\u001b[39m.\u001b[39mlinspace(\u001b[39m0\u001b[39m,\u001b[39m5\u001b[39m,\u001b[39m6\u001b[39m)\n\u001b[1;32m      <a href='vscode-notebook-cell:/Users/taehwan/Workspace/Workspace/Aiffel%20course/Exprolation/%5BE-02%5DBicycle.ipynb#X30sZmlsZQ%3D%3D?line=4'>5</a>\u001b[0m y \u001b[39m=\u001b[39m model(x,w,b)\n\u001b[1;32m      <a href='vscode-notebook-cell:/Users/taehwan/Workspace/Workspace/Aiffel%20course/Exprolation/%5BE-02%5DBicycle.ipynb#X30sZmlsZQ%3D%3D?line=5'>6</a>\u001b[0m plt\u001b[39m.\u001b[39mplot(y, c\u001b[39m=\u001b[39m \u001b[39m'\u001b[39m\u001b[39mr\u001b[39m\u001b[39m'\u001b[39m)\n",
      "\u001b[0;31mNameError\u001b[0m: name 'np' is not defined"
     ]
    }
   ],
   "source": [
    "w = 3.1\n",
    "b = 2.3\n",
    "\n",
    "x = np.linspace(0,5,6)\n",
    "y = model(x,w,b)\n",
    "plt.plot(y, c= 'r')\n",
    "\n",
    "plt.scatter(macbook['used_years'], macbook['price'])\n",
    "plt.show()"
   ]
  },
  {
   "cell_type": "markdown",
   "metadata": {},
   "source": [
    "직선은 전혀 맞지 않네요. 더 좋은 w,b를 찾아야 합니다.\n",
    "\n",
    "그러기 위해선 지금의 used_years를 x로 가져와서 실제 label값과 모델의 측정값의 오차를 비교해 확인해보자."
   ]
  },
  {
   "cell_type": "code",
   "execution_count": 80,
   "metadata": {},
   "outputs": [
    {
     "name": "stdout",
     "output_type": "stream",
     "text": [
      "[2.65 3.8  0.95 4.5  4.45 2.7  3.05 2.25 2.3  1.85 1.5  0.95 2.6  0.55\n",
      " 2.05 0.75 3.95 2.8  2.05 1.15 1.35 3.35 1.35 2.45 2.4  0.1  3.45 2.35\n",
      " 0.7  1.05 1.75 4.1  4.5  4.   2.   2.45 2.5  2.1  3.   4.05 2.7  2.15\n",
      " 3.3  2.4  2.85 1.65 1.55 2.15 3.4  1.55 0.8  2.95 2.4  1.4  1.65 2.25\n",
      " 3.85 3.9  4.6  2.35 4.05 1.2  1.95 1.6  2.   1.8  3.75 3.65 2.35 2.2\n",
      " 1.   4.15 1.1  1.55 2.95 1.5  1.65 1.1  3.25 0.75]\n",
      "[10.515 14.08   5.245 16.25  16.095 10.67  11.755  9.275  9.43   8.035\n",
      "  6.95   5.245 10.36   4.005  8.655  4.625 14.545 10.98   8.655  5.865\n",
      "  6.485 12.685  6.485  9.895  9.74   2.61  12.995  9.585  4.47   5.555\n",
      "  7.725 15.01  16.25  14.7    8.5    9.895 10.05   8.81  11.6   14.855\n",
      " 10.67   8.965 12.53   9.74  11.135  7.415  7.105  8.965 12.84   7.105\n",
      "  4.78  11.445  9.74   6.64   7.415  9.275 14.235 14.39  16.56   9.585\n",
      " 14.855  6.02   8.345  7.26   8.5    7.88  13.925 13.615  9.585  9.12\n",
      "  5.4   15.165  5.71   7.105 11.445  6.95   7.415  5.71  12.375  4.625]\n"
     ]
    },
    {
     "data": {
      "text/html": [
       "<div>\n",
       "<style scoped>\n",
       "    .dataframe tbody tr th:only-of-type {\n",
       "        vertical-align: middle;\n",
       "    }\n",
       "\n",
       "    .dataframe tbody tr th {\n",
       "        vertical-align: top;\n",
       "    }\n",
       "\n",
       "    .dataframe thead th {\n",
       "        text-align: right;\n",
       "    }\n",
       "</style>\n",
       "<table border=\"1\" class=\"dataframe\">\n",
       "  <thead>\n",
       "    <tr style=\"text-align: right;\">\n",
       "      <th></th>\n",
       "      <th>used_years</th>\n",
       "      <th>price</th>\n",
       "      <th>prediction</th>\n",
       "    </tr>\n",
       "  </thead>\n",
       "  <tbody>\n",
       "    <tr>\n",
       "      <th>0</th>\n",
       "      <td>2.65</td>\n",
       "      <td>175</td>\n",
       "      <td>10.515</td>\n",
       "    </tr>\n",
       "    <tr>\n",
       "      <th>1</th>\n",
       "      <td>3.80</td>\n",
       "      <td>63</td>\n",
       "      <td>14.080</td>\n",
       "    </tr>\n",
       "    <tr>\n",
       "      <th>2</th>\n",
       "      <td>0.95</td>\n",
       "      <td>273</td>\n",
       "      <td>5.245</td>\n",
       "    </tr>\n",
       "    <tr>\n",
       "      <th>3</th>\n",
       "      <td>4.50</td>\n",
       "      <td>133</td>\n",
       "      <td>16.250</td>\n",
       "    </tr>\n",
       "    <tr>\n",
       "      <th>4</th>\n",
       "      <td>4.45</td>\n",
       "      <td>106</td>\n",
       "      <td>16.095</td>\n",
       "    </tr>\n",
       "  </tbody>\n",
       "</table>\n",
       "</div>"
      ],
      "text/plain": [
       "   used_years  price  prediction\n",
       "0        2.65    175      10.515\n",
       "1        3.80     63      14.080\n",
       "2        0.95    273       5.245\n",
       "3        4.50    133      16.250\n",
       "4        4.45    106      16.095"
      ]
     },
     "execution_count": 80,
     "metadata": {},
     "output_type": "execute_result"
    }
   ],
   "source": [
    "x = macbook[\"used_years\"].values\n",
    "print(x)\n",
    "\n",
    "prediction = model(x,w,b)\n",
    "print(prediction)\n",
    "\n",
    "macbook['prediction'] = prediction\n",
    "macbook.head()"
   ]
  },
  {
   "cell_type": "markdown",
   "metadata": {},
   "source": [
    "price와 prediction의 값이 매추 큰 차이를 보인다.\n",
    "\n",
    "오차 항목을 만들어서 입력해보자."
   ]
  },
  {
   "cell_type": "code",
   "execution_count": 81,
   "metadata": {},
   "outputs": [
    {
     "data": {
      "text/html": [
       "<div>\n",
       "<style scoped>\n",
       "    .dataframe tbody tr th:only-of-type {\n",
       "        vertical-align: middle;\n",
       "    }\n",
       "\n",
       "    .dataframe tbody tr th {\n",
       "        vertical-align: top;\n",
       "    }\n",
       "\n",
       "    .dataframe thead th {\n",
       "        text-align: right;\n",
       "    }\n",
       "</style>\n",
       "<table border=\"1\" class=\"dataframe\">\n",
       "  <thead>\n",
       "    <tr style=\"text-align: right;\">\n",
       "      <th></th>\n",
       "      <th>used_years</th>\n",
       "      <th>price</th>\n",
       "      <th>prediction</th>\n",
       "      <th>error</th>\n",
       "    </tr>\n",
       "  </thead>\n",
       "  <tbody>\n",
       "    <tr>\n",
       "      <th>0</th>\n",
       "      <td>2.65</td>\n",
       "      <td>175</td>\n",
       "      <td>10.515</td>\n",
       "      <td>164.485</td>\n",
       "    </tr>\n",
       "    <tr>\n",
       "      <th>1</th>\n",
       "      <td>3.80</td>\n",
       "      <td>63</td>\n",
       "      <td>14.080</td>\n",
       "      <td>48.920</td>\n",
       "    </tr>\n",
       "    <tr>\n",
       "      <th>2</th>\n",
       "      <td>0.95</td>\n",
       "      <td>273</td>\n",
       "      <td>5.245</td>\n",
       "      <td>267.755</td>\n",
       "    </tr>\n",
       "    <tr>\n",
       "      <th>3</th>\n",
       "      <td>4.50</td>\n",
       "      <td>133</td>\n",
       "      <td>16.250</td>\n",
       "      <td>116.750</td>\n",
       "    </tr>\n",
       "    <tr>\n",
       "      <th>4</th>\n",
       "      <td>4.45</td>\n",
       "      <td>106</td>\n",
       "      <td>16.095</td>\n",
       "      <td>89.905</td>\n",
       "    </tr>\n",
       "  </tbody>\n",
       "</table>\n",
       "</div>"
      ],
      "text/plain": [
       "   used_years  price  prediction    error\n",
       "0        2.65    175      10.515  164.485\n",
       "1        3.80     63      14.080   48.920\n",
       "2        0.95    273       5.245  267.755\n",
       "3        4.50    133      16.250  116.750\n",
       "4        4.45    106      16.095   89.905"
      ]
     },
     "execution_count": 81,
     "metadata": {},
     "output_type": "execute_result"
    }
   ],
   "source": [
    "macbook['error'] = macbook['price']- macbook['prediction']\n",
    "macbook.head()"
   ]
  },
  {
   "cell_type": "markdown",
   "metadata": {},
   "source": [
    "회귀모델의 예측값의 오차를 평가하는 모델이 여러가지 있다.\n",
    "\n",
    "대표적으로는 MAE, MSE, RMSE, R-squared 등이 있으며\n",
    "MAE는 입력값을 예측값으로 빼서 절대값한 크기만 합치고, 데이터의 개수(크기)로 나눠준 값으로 평가하고\n",
    "MSE는 입력값에서 에측값과의 차를 제곱해서 합치고, 데이터의 개수로 나눠준 값으로 평가한다.\n",
    "RMSE는 MSE의 제곱근이다.\n",
    "R-squared는 1 - ((sum(입력값 - 예측값) **2) /(sum(입력값 - 평균값) ** 2)), 결정계수라 한다.\n",
    "\n",
    "이번 평가에선 가장 많이 쓰는 RMSE 평가모델을 사용한다."
   ]
  },
  {
   "cell_type": "code",
   "execution_count": 19,
   "metadata": {},
   "outputs": [
    {
     "ename": "NameError",
     "evalue": "name 'prediction' is not defined",
     "output_type": "error",
     "traceback": [
      "\u001b[0;31m---------------------------------------------------------------------------\u001b[0m",
      "\u001b[0;31mNameError\u001b[0m                                 Traceback (most recent call last)",
      "\u001b[1;32m/Users/taehwan/Workspace/Workspace/Aiffel course/Exprolation/[E-02]Bicycle.ipynb 셀 25\u001b[0m in \u001b[0;36m<cell line: 9>\u001b[0;34m()\u001b[0m\n\u001b[1;32m      <a href='vscode-notebook-cell:/Users/taehwan/Workspace/Workspace/Aiffel%20course/Exprolation/%5BE-02%5DBicycle.ipynb#X40sZmlsZQ%3D%3D?line=5'>6</a>\u001b[0m x \u001b[39m=\u001b[39m macbook[\u001b[39m\"\u001b[39m\u001b[39mused_years\u001b[39m\u001b[39m\"\u001b[39m]\u001b[39m.\u001b[39mvalues\n\u001b[1;32m      <a href='vscode-notebook-cell:/Users/taehwan/Workspace/Workspace/Aiffel%20course/Exprolation/%5BE-02%5DBicycle.ipynb#X40sZmlsZQ%3D%3D?line=6'>7</a>\u001b[0m y \u001b[39m=\u001b[39m macbook[\u001b[39m\"\u001b[39m\u001b[39mprice\u001b[39m\u001b[39m\"\u001b[39m]\u001b[39m.\u001b[39mvalues\n\u001b[0;32m----> <a href='vscode-notebook-cell:/Users/taehwan/Workspace/Workspace/Aiffel%20course/Exprolation/%5BE-02%5DBicycle.ipynb#X40sZmlsZQ%3D%3D?line=8'>9</a>\u001b[0m rmse \u001b[39m=\u001b[39m RMSE(prediction, y)\n\u001b[1;32m     <a href='vscode-notebook-cell:/Users/taehwan/Workspace/Workspace/Aiffel%20course/Exprolation/%5BE-02%5DBicycle.ipynb#X40sZmlsZQ%3D%3D?line=9'>10</a>\u001b[0m \u001b[39mprint\u001b[39m(rmse)\n",
      "\u001b[0;31mNameError\u001b[0m: name 'prediction' is not defined"
     ]
    }
   ],
   "source": [
    "def RMSE(a,b):\n",
    "  mse = ((a-b) **2).mean()\n",
    "  rmse = mse**0.5\n",
    "  return rmse\n",
    "\n",
    "x = macbook[\"used_years\"].values\n",
    "y = macbook[\"price\"].values\n",
    "\n",
    "rmse = RMSE(prediction, y)\n",
    "print(rmse)"
   ]
  },
  {
   "cell_type": "markdown",
   "metadata": {},
   "source": [
    "부정확하기에 RMSE가 매우 크다. 오차의 합을 줄이면 되는 데 어떻게 줄일까요?\n",
    "\n",
    "그럼 우리는 이제 RMSE 평가모델을 통해 오차의 합을 구하는 방정식인 손실함수(비용함수)를 구해보자."
   ]
  },
  {
   "cell_type": "code",
   "execution_count": 21,
   "metadata": {},
   "outputs": [],
   "source": [
    "def loss(x,w,b,y):\n",
    "  prediction = model(x,w,b)\n",
    "  L = RMSE(prediction,y)\n",
    "  return L"
   ]
  },
  {
   "cell_type": "markdown",
   "metadata": {},
   "source": [
    "모델에 입력되는 4가지 중 우리가 변화시킬 수 있는 값은 w와 b이다.\n",
    "이들을 파라미터와 가중치라고 한다.\n",
    "\n",
    "이러한 가중치의 최소값을 구하기 위해서 gradient(기울기)가 0이 되는 최적의 가중치 값을 찾아낸다.\n",
    "\n",
    "규칙을 통해서 하나씩 0에 가깝게 찾아볼 수 있다.\n",
    "\n",
    "1. 현재 w에서의 기울기를 구한다.\n",
    "2. 기울기가 음수라면 w를 키운다.\n",
    "3. 기울기가 양수라면 w를 줄인다.\n",
    "\n",
    "수식으로 나타내면 \n",
    "\n",
    "w' =w−ηg\n",
    "\n",
    "η : 얼마나 업데이트를 할 지를 결정하는 상수(학습률)\n",
    "g : 기울기 또는 그래디언트"
   ]
  },
  {
   "cell_type": "markdown",
   "metadata": {},
   "source": [
    "기울기는 텐서플로우를 이용해서 미분을 구하자."
   ]
  },
  {
   "cell_type": "code",
   "execution_count": 6,
   "metadata": {},
   "outputs": [],
   "source": [
    "LEARNING_RATE = 1"
   ]
  },
  {
   "cell_type": "code",
   "execution_count": 12,
   "metadata": {},
   "outputs": [
    {
     "name": "stdout",
     "output_type": "stream",
     "text": [
      "슝=3\n"
     ]
    }
   ],
   "source": [
    "x = macbook[\"used_years\"].values\n",
    "y = macbook[\"price\"].values"
   ]
  },
  {
   "cell_type": "code",
   "execution_count": 2,
   "metadata": {},
   "outputs": [],
   "source": [
    "def gradient(x, w, b, y):\n",
    "    dw = (loss(x, w + 0.0001, b, y) - loss(x, w, b, y)) / 0.0001\n",
    "    db = (loss(x, w, b + 0.0001, y) - loss(x, w, b, y)) / 0.0001\n",
    "    return dw, db"
   ]
  },
  {
   "cell_type": "code",
   "execution_count": 23,
   "metadata": {},
   "outputs": [],
   "source": [
    "losses = []"
   ]
  },
  {
   "cell_type": "code",
   "execution_count": 24,
   "metadata": {},
   "outputs": [
    {
     "name": "stdout",
     "output_type": "stream",
     "text": [
      "Iteration 100 : Loss 107.8708\n",
      "Iteration 200 : Loss 94.4397\n",
      "Iteration 300 : Loss 81.7335\n",
      "Iteration 400 : Loss 70.0698\n",
      "Iteration 500 : Loss 59.8849\n",
      "Iteration 600 : Loss 51.6766\n",
      "Iteration 700 : Loss 45.7883\n",
      "Iteration 800 : Loss 42.1201\n",
      "Iteration 900 : Loss 40.1217\n",
      "Iteration 1000 : Loss 39.1354\n",
      "Iteration 1100 : Loss 38.6763\n",
      "Iteration 1200 : Loss 38.4689\n",
      "Iteration 1300 : Loss 38.3766\n",
      "Iteration 1400 : Loss 38.3358\n",
      "Iteration 1500 : Loss 38.3178\n",
      "Iteration 1600 : Loss 38.3098\n",
      "Iteration 1700 : Loss 38.3063\n",
      "Iteration 1800 : Loss 38.3048\n",
      "Iteration 1900 : Loss 38.3041\n",
      "Iteration 2000 : Loss 38.3038\n"
     ]
    }
   ],
   "source": [
    "for i in range(1, 2001):\n",
    "    dw, db = gradient(x, w, b, y)   # 3, 4번: 모델이 prediction을 예측하고, 손실함수값을 계산함과 동시에 기울기 계산\n",
    "    w -= LEARNING_RATE * dw         # 5번: w = w - η * dw 로 업데이트\n",
    "    b -= LEARNING_RATE * db         # 5번: b = b - η * db 로 업데이트 \n",
    "    L = loss(x, w, b, y)            # 현재의 loss 값 계산\n",
    "    losses.append(L)                # loss 값 기록\n",
    "    if i % 100 == 0:\n",
    "        print('Iteration %d : Loss %0.4f' % (i, L))"
   ]
  },
  {
   "cell_type": "markdown",
   "metadata": {},
   "source": [
    "반복이 증가하면서 Loss 값이 줄어들고 있다.\n",
    "\n",
    "그래프로 확인해보자."
   ]
  },
  {
   "cell_type": "code",
   "execution_count": 26,
   "metadata": {},
   "outputs": [
    {
     "data": {
      "image/png": "[encoded data removed]",
      "text/plain": [
       "<Figure size 432x288 with 1 Axes>"
      ]
     },
     "metadata": {
      "image/png": {
       "height": 248,
       "width": 375
      },
      "needs_background": "light"
     },
     "output_type": "display_data"
    }
   ],
   "source": [
    "plt.plot(losses)\n",
    "plt.show()"
   ]
  },
  {
   "cell_type": "code",
   "execution_count": 27,
   "metadata": {},
   "outputs": [
    {
     "name": "stdout",
     "output_type": "stream",
     "text": [
      "-44.92802735596856 293.082887486003\n"
     ]
    }
   ],
   "source": [
    "print(w,b)"
   ]
  },
  {
   "cell_type": "markdown",
   "metadata": {},
   "source": [
    "학습데이터와 학습완료된 모델의 일차함수를 함께 그려보자."
   ]
  },
  {
   "cell_type": "code",
   "execution_count": 28,
   "metadata": {},
   "outputs": [
    {
     "data": {
      "image/png": "[encoded data removed]",
      "text/plain": [
       "<Figure size 432x288 with 1 Axes>"
      ]
     },
     "metadata": {
      "image/png": {
       "height": 248,
       "width": 375
      },
      "needs_background": "light"
     },
     "output_type": "display_data"
    }
   ],
   "source": [
    "x = np.linspace(0,5,6)\n",
    "\n",
    "y = model(x,w,b)\n",
    "\n",
    "plt.plot(y, c='r')\n",
    "\n",
    "plt.scatter(macbook['used_years'],macbook['price'])\n",
    "plt.show()"
   ]
  },
  {
   "cell_type": "markdown",
   "metadata": {},
   "source": [
    "이제 테스트셋인 macbook_test.csv를 가져와서 평가해보자"
   ]
  },
  {
   "cell_type": "code",
   "execution_count": 30,
   "metadata": {},
   "outputs": [
    {
     "name": "stdout",
     "output_type": "stream",
     "text": [
      "(20, 2)\n"
     ]
    },
    {
     "data": {
      "text/html": [
       "<div>\n",
       "<style scoped>\n",
       "    .dataframe tbody tr th:only-of-type {\n",
       "        vertical-align: middle;\n",
       "    }\n",
       "\n",
       "    .dataframe tbody tr th {\n",
       "        vertical-align: top;\n",
       "    }\n",
       "\n",
       "    .dataframe thead th {\n",
       "        text-align: right;\n",
       "    }\n",
       "</style>\n",
       "<table border=\"1\" class=\"dataframe\">\n",
       "  <thead>\n",
       "    <tr style=\"text-align: right;\">\n",
       "      <th></th>\n",
       "      <th>used_years</th>\n",
       "      <th>price</th>\n",
       "    </tr>\n",
       "  </thead>\n",
       "  <tbody>\n",
       "    <tr>\n",
       "      <th>0</th>\n",
       "      <td>1.20</td>\n",
       "      <td>203</td>\n",
       "    </tr>\n",
       "    <tr>\n",
       "      <th>1</th>\n",
       "      <td>1.85</td>\n",
       "      <td>206</td>\n",
       "    </tr>\n",
       "    <tr>\n",
       "      <th>2</th>\n",
       "      <td>2.40</td>\n",
       "      <td>191</td>\n",
       "    </tr>\n",
       "    <tr>\n",
       "      <th>3</th>\n",
       "      <td>2.85</td>\n",
       "      <td>164</td>\n",
       "    </tr>\n",
       "    <tr>\n",
       "      <th>4</th>\n",
       "      <td>3.05</td>\n",
       "      <td>176</td>\n",
       "    </tr>\n",
       "  </tbody>\n",
       "</table>\n",
       "</div>"
      ],
      "text/plain": [
       "   used_years  price\n",
       "0        1.20    203\n",
       "1        1.85    206\n",
       "2        2.40    191\n",
       "3        2.85    164\n",
       "4        3.05    176"
      ]
     },
     "execution_count": 30,
     "metadata": {},
     "output_type": "execute_result"
    }
   ],
   "source": [
    "test = pd.read_csv(\"./data/macbook_test.csv\")\n",
    "print(test.shape)\n",
    "test.head()"
   ]
  },
  {
   "cell_type": "markdown",
   "metadata": {},
   "source": [
    "데이터를 test_X와 test_y로 분리해 담아주자."
   ]
  },
  {
   "cell_type": "code",
   "execution_count": 35,
   "metadata": {},
   "outputs": [],
   "source": [
    "test_X = test['used_years'].values\n",
    "test_y = test['price'].values"
   ]
  },
  {
   "cell_type": "markdown",
   "metadata": {},
   "source": [
    "이제 모델에 넣어 예측값을 구해서 손실함수를 구하자"
   ]
  },
  {
   "cell_type": "code",
   "execution_count": 55,
   "metadata": {},
   "outputs": [
    {
     "data": {
      "text/html": [
       "<div>\n",
       "<style scoped>\n",
       "    .dataframe tbody tr th:only-of-type {\n",
       "        vertical-align: middle;\n",
       "    }\n",
       "\n",
       "    .dataframe tbody tr th {\n",
       "        vertical-align: top;\n",
       "    }\n",
       "\n",
       "    .dataframe thead th {\n",
       "        text-align: right;\n",
       "    }\n",
       "</style>\n",
       "<table border=\"1\" class=\"dataframe\">\n",
       "  <thead>\n",
       "    <tr style=\"text-align: right;\">\n",
       "      <th></th>\n",
       "      <th>used_years</th>\n",
       "      <th>price</th>\n",
       "      <th>prediction</th>\n",
       "    </tr>\n",
       "  </thead>\n",
       "  <tbody>\n",
       "    <tr>\n",
       "      <th>0</th>\n",
       "      <td>1.20</td>\n",
       "      <td>203</td>\n",
       "      <td>239.169255</td>\n",
       "    </tr>\n",
       "    <tr>\n",
       "      <th>1</th>\n",
       "      <td>1.85</td>\n",
       "      <td>206</td>\n",
       "      <td>209.966037</td>\n",
       "    </tr>\n",
       "    <tr>\n",
       "      <th>2</th>\n",
       "      <td>2.40</td>\n",
       "      <td>191</td>\n",
       "      <td>185.255622</td>\n",
       "    </tr>\n",
       "    <tr>\n",
       "      <th>3</th>\n",
       "      <td>2.85</td>\n",
       "      <td>164</td>\n",
       "      <td>165.038010</td>\n",
       "    </tr>\n",
       "    <tr>\n",
       "      <th>4</th>\n",
       "      <td>3.05</td>\n",
       "      <td>176</td>\n",
       "      <td>156.052404</td>\n",
       "    </tr>\n",
       "  </tbody>\n",
       "</table>\n",
       "</div>"
      ],
      "text/plain": [
       "   used_years  price  prediction\n",
       "0        1.20    203  239.169255\n",
       "1        1.85    206  209.966037\n",
       "2        2.40    191  185.255622\n",
       "3        2.85    164  165.038010\n",
       "4        3.05    176  156.052404"
      ]
     },
     "execution_count": 55,
     "metadata": {},
     "output_type": "execute_result"
    }
   ],
   "source": [
    "prediction = model(test_X,w,b)\n",
    "test['prediction'] = prediction\n",
    "test.head()"
   ]
  },
  {
   "cell_type": "markdown",
   "metadata": {},
   "source": [
    "error 칼럼을 추가해, 실제값과 예측값의 차를 넣어보자."
   ]
  },
  {
   "cell_type": "code",
   "execution_count": 56,
   "metadata": {},
   "outputs": [
    {
     "data": {
      "text/html": [
       "<div>\n",
       "<style scoped>\n",
       "    .dataframe tbody tr th:only-of-type {\n",
       "        vertical-align: middle;\n",
       "    }\n",
       "\n",
       "    .dataframe tbody tr th {\n",
       "        vertical-align: top;\n",
       "    }\n",
       "\n",
       "    .dataframe thead th {\n",
       "        text-align: right;\n",
       "    }\n",
       "</style>\n",
       "<table border=\"1\" class=\"dataframe\">\n",
       "  <thead>\n",
       "    <tr style=\"text-align: right;\">\n",
       "      <th></th>\n",
       "      <th>used_years</th>\n",
       "      <th>price</th>\n",
       "      <th>prediction</th>\n",
       "      <th>error</th>\n",
       "    </tr>\n",
       "  </thead>\n",
       "  <tbody>\n",
       "    <tr>\n",
       "      <th>0</th>\n",
       "      <td>1.20</td>\n",
       "      <td>203</td>\n",
       "      <td>239.169255</td>\n",
       "      <td>-36.169255</td>\n",
       "    </tr>\n",
       "    <tr>\n",
       "      <th>1</th>\n",
       "      <td>1.85</td>\n",
       "      <td>206</td>\n",
       "      <td>209.966037</td>\n",
       "      <td>-3.966037</td>\n",
       "    </tr>\n",
       "    <tr>\n",
       "      <th>2</th>\n",
       "      <td>2.40</td>\n",
       "      <td>191</td>\n",
       "      <td>185.255622</td>\n",
       "      <td>5.744378</td>\n",
       "    </tr>\n",
       "    <tr>\n",
       "      <th>3</th>\n",
       "      <td>2.85</td>\n",
       "      <td>164</td>\n",
       "      <td>165.038010</td>\n",
       "      <td>-1.038010</td>\n",
       "    </tr>\n",
       "    <tr>\n",
       "      <th>4</th>\n",
       "      <td>3.05</td>\n",
       "      <td>176</td>\n",
       "      <td>156.052404</td>\n",
       "      <td>19.947596</td>\n",
       "    </tr>\n",
       "  </tbody>\n",
       "</table>\n",
       "</div>"
      ],
      "text/plain": [
       "   used_years  price  prediction      error\n",
       "0        1.20    203  239.169255 -36.169255\n",
       "1        1.85    206  209.966037  -3.966037\n",
       "2        2.40    191  185.255622   5.744378\n",
       "3        2.85    164  165.038010  -1.038010\n",
       "4        3.05    176  156.052404  19.947596"
      ]
     },
     "execution_count": 56,
     "metadata": {},
     "output_type": "execute_result"
    }
   ],
   "source": [
    "test['error'] = test['price'] - test['prediction']\n",
    "test.head()"
   ]
  },
  {
   "cell_type": "markdown",
   "metadata": {},
   "source": [
    "error값도 구했겠다. rmse값도 구해보자."
   ]
  },
  {
   "cell_type": "code",
   "execution_count": 58,
   "metadata": {},
   "outputs": [
    {
     "name": "stdout",
     "output_type": "stream",
     "text": [
      "45.039281182770374\n"
     ]
    }
   ],
   "source": [
    "rmse = ((test['error']**2).sum() / len(test)) ** 0.5\n",
    "print(rmse)"
   ]
  },
  {
   "cell_type": "markdown",
   "metadata": {},
   "source": [
    "일차함수를 그리고\n",
    "\n",
    "실제 데이터 값을 찍고,\n",
    "모델이 예측한 값을 찍어보자."
   ]
  },
  {
   "cell_type": "code",
   "execution_count": 65,
   "metadata": {},
   "outputs": [
    {
     "data": {
      "image/png": "[encoded data removed]",
      "text/plain": [
       "<Figure size 432x288 with 1 Axes>"
      ]
     },
     "metadata": {
      "image/png": {
       "height": 248,
       "width": 375
      },
      "needs_background": "light"
     },
     "output_type": "display_data"
    }
   ],
   "source": [
    "x = np.linspace(0,5,6)\n",
    "y = model(x,w,b)\n",
    "plt.plot(y, c='r')\n",
    "\n",
    "plt.scatter(test['used_years'], test['price'])\n",
    "\n",
    "plt.scatter(test['used_years'], test['prediction'])\n",
    "plt.show()"
   ]
  },
  {
   "cell_type": "markdown",
   "metadata": {},
   "source": [
    "np.linspace()함수에 파라미터에 대해 알아보자."
   ]
  },
  {
   "cell_type": "code",
   "execution_count": 66,
   "metadata": {},
   "outputs": [
    {
     "data": {
      "image/png": "[encoded data removed]",
      "text/plain": [
       "<Figure size 432x288 with 1 Axes>"
      ]
     },
     "metadata": {
      "image/png": {
       "height": 248,
       "width": 375
      },
      "needs_background": "light"
     },
     "output_type": "display_data"
    }
   ],
   "source": [
    "x = np.linspace(0,3,6)\n",
    "y = model(x,w,b)\n",
    "plt.plot(y, c='r')\n",
    "\n",
    "plt.scatter(test['used_years'], test['price'])\n",
    "\n",
    "plt.scatter(test['used_years'], test['prediction'])\n",
    "plt.show()"
   ]
  },
  {
   "cell_type": "code",
   "execution_count": 67,
   "metadata": {},
   "outputs": [
    {
     "data": {
      "image/png": "[encoded data removed]",
      "text/plain": [
       "<Figure size 432x288 with 1 Axes>"
      ]
     },
     "metadata": {
      "image/png": {
       "height": 248,
       "width": 383
      },
      "needs_background": "light"
     },
     "output_type": "display_data"
    }
   ],
   "source": [
    "x = np.linspace(0,10,6)\n",
    "y = model(x,w,b)\n",
    "plt.plot(y, c='r')\n",
    "\n",
    "plt.scatter(test['used_years'], test['price'])\n",
    "\n",
    "plt.scatter(test['used_years'], test['prediction'])\n",
    "plt.show()"
   ]
  },
  {
   "cell_type": "code",
   "execution_count": 68,
   "metadata": {},
   "outputs": [
    {
     "data": {
      "image/png": "[encoded data removed]",
      "text/plain": [
       "<Figure size 432x288 with 1 Axes>"
      ]
     },
     "metadata": {
      "image/png": {
       "height": 248,
       "width": 375
      },
      "needs_background": "light"
     },
     "output_type": "display_data"
    }
   ],
   "source": [
    "x = np.linspace(0,5,3)\n",
    "y = model(x,w,b)\n",
    "plt.plot(y, c='r')\n",
    "\n",
    "plt.scatter(test['used_years'], test['price'])\n",
    "\n",
    "plt.scatter(test['used_years'], test['prediction'])\n",
    "plt.show()"
   ]
  },
  {
   "cell_type": "markdown",
   "metadata": {},
   "source": [
    "파라미터의 값에 따라서 일차함수 그래프가 바뀐다."
   ]
  },
  {
   "cell_type": "markdown",
   "metadata": {},
   "source": [
    "## 단일 파라미터가 아닌 다변수 선형회귀 분석법\n",
    "\n",
    "손님의 성별, 수, 전체 먹은 금액 등으로 내가 받을 팁을 예측할 수 있을까?\n",
    "\n",
    "seaborn의 데이터셋을 이용한 예제를 풀어보자."
   ]
  },
  {
   "cell_type": "code",
   "execution_count": 69,
   "metadata": {},
   "outputs": [
    {
     "data": {
      "text/plain": [
       "['anagrams',\n",
       " 'anscombe',\n",
       " 'attention',\n",
       " 'brain_networks',\n",
       " 'car_crashes',\n",
       " 'diamonds',\n",
       " 'dots',\n",
       " 'dowjones',\n",
       " 'exercise',\n",
       " 'flights',\n",
       " 'fmri',\n",
       " 'geyser',\n",
       " 'glue',\n",
       " 'healthexp',\n",
       " 'iris',\n",
       " 'mpg',\n",
       " 'penguins',\n",
       " 'planets',\n",
       " 'seaice',\n",
       " 'taxis',\n",
       " 'tips',\n",
       " 'titanic']"
      ]
     },
     "execution_count": 69,
     "metadata": {},
     "output_type": "execute_result"
    }
   ],
   "source": [
    "import seaborn as sns\n",
    "\n",
    "sns.get_dataset_names()"
   ]
  },
  {
   "cell_type": "code",
   "execution_count": 71,
   "metadata": {},
   "outputs": [
    {
     "name": "stdout",
     "output_type": "stream",
     "text": [
      "(244, 7)\n"
     ]
    },
    {
     "data": {
      "text/html": [
       "<div>\n",
       "<style scoped>\n",
       "    .dataframe tbody tr th:only-of-type {\n",
       "        vertical-align: middle;\n",
       "    }\n",
       "\n",
       "    .dataframe tbody tr th {\n",
       "        vertical-align: top;\n",
       "    }\n",
       "\n",
       "    .dataframe thead th {\n",
       "        text-align: right;\n",
       "    }\n",
       "</style>\n",
       "<table border=\"1\" class=\"dataframe\">\n",
       "  <thead>\n",
       "    <tr style=\"text-align: right;\">\n",
       "      <th></th>\n",
       "      <th>total_bill</th>\n",
       "      <th>tip</th>\n",
       "      <th>sex</th>\n",
       "      <th>smoker</th>\n",
       "      <th>day</th>\n",
       "      <th>time</th>\n",
       "      <th>size</th>\n",
       "    </tr>\n",
       "  </thead>\n",
       "  <tbody>\n",
       "    <tr>\n",
       "      <th>0</th>\n",
       "      <td>16.99</td>\n",
       "      <td>1.01</td>\n",
       "      <td>Female</td>\n",
       "      <td>No</td>\n",
       "      <td>Sun</td>\n",
       "      <td>Dinner</td>\n",
       "      <td>2</td>\n",
       "    </tr>\n",
       "    <tr>\n",
       "      <th>1</th>\n",
       "      <td>10.34</td>\n",
       "      <td>1.66</td>\n",
       "      <td>Male</td>\n",
       "      <td>No</td>\n",
       "      <td>Sun</td>\n",
       "      <td>Dinner</td>\n",
       "      <td>3</td>\n",
       "    </tr>\n",
       "    <tr>\n",
       "      <th>2</th>\n",
       "      <td>21.01</td>\n",
       "      <td>3.50</td>\n",
       "      <td>Male</td>\n",
       "      <td>No</td>\n",
       "      <td>Sun</td>\n",
       "      <td>Dinner</td>\n",
       "      <td>3</td>\n",
       "    </tr>\n",
       "    <tr>\n",
       "      <th>3</th>\n",
       "      <td>23.68</td>\n",
       "      <td>3.31</td>\n",
       "      <td>Male</td>\n",
       "      <td>No</td>\n",
       "      <td>Sun</td>\n",
       "      <td>Dinner</td>\n",
       "      <td>2</td>\n",
       "    </tr>\n",
       "    <tr>\n",
       "      <th>4</th>\n",
       "      <td>24.59</td>\n",
       "      <td>3.61</td>\n",
       "      <td>Female</td>\n",
       "      <td>No</td>\n",
       "      <td>Sun</td>\n",
       "      <td>Dinner</td>\n",
       "      <td>4</td>\n",
       "    </tr>\n",
       "  </tbody>\n",
       "</table>\n",
       "</div>"
      ],
      "text/plain": [
       "   total_bill   tip     sex smoker  day    time  size\n",
       "0       16.99  1.01  Female     No  Sun  Dinner     2\n",
       "1       10.34  1.66    Male     No  Sun  Dinner     3\n",
       "2       21.01  3.50    Male     No  Sun  Dinner     3\n",
       "3       23.68  3.31    Male     No  Sun  Dinner     2\n",
       "4       24.59  3.61  Female     No  Sun  Dinner     4"
      ]
     },
     "execution_count": 71,
     "metadata": {},
     "output_type": "execute_result"
    }
   ],
   "source": [
    "tips = sns.load_dataset('tips')\n",
    "print(tips.shape)\n",
    "tips.head()"
   ]
  },
  {
   "cell_type": "code",
   "execution_count": 72,
   "metadata": {},
   "outputs": [
    {
     "data": {
      "text/html": [
       "<div>\n",
       "<style scoped>\n",
       "    .dataframe tbody tr th:only-of-type {\n",
       "        vertical-align: middle;\n",
       "    }\n",
       "\n",
       "    .dataframe tbody tr th {\n",
       "        vertical-align: top;\n",
       "    }\n",
       "\n",
       "    .dataframe thead th {\n",
       "        text-align: right;\n",
       "    }\n",
       "</style>\n",
       "<table border=\"1\" class=\"dataframe\">\n",
       "  <thead>\n",
       "    <tr style=\"text-align: right;\">\n",
       "      <th></th>\n",
       "      <th>total_bill</th>\n",
       "      <th>tip</th>\n",
       "      <th>size</th>\n",
       "      <th>sex_Male</th>\n",
       "      <th>sex_Female</th>\n",
       "      <th>smoker_Yes</th>\n",
       "      <th>smoker_No</th>\n",
       "      <th>day_Thur</th>\n",
       "      <th>day_Fri</th>\n",
       "      <th>day_Sat</th>\n",
       "      <th>day_Sun</th>\n",
       "      <th>time_Lunch</th>\n",
       "      <th>time_Dinner</th>\n",
       "    </tr>\n",
       "  </thead>\n",
       "  <tbody>\n",
       "    <tr>\n",
       "      <th>0</th>\n",
       "      <td>16.99</td>\n",
       "      <td>1.01</td>\n",
       "      <td>2</td>\n",
       "      <td>0</td>\n",
       "      <td>1</td>\n",
       "      <td>0</td>\n",
       "      <td>1</td>\n",
       "      <td>0</td>\n",
       "      <td>0</td>\n",
       "      <td>0</td>\n",
       "      <td>1</td>\n",
       "      <td>0</td>\n",
       "      <td>1</td>\n",
       "    </tr>\n",
       "    <tr>\n",
       "      <th>1</th>\n",
       "      <td>10.34</td>\n",
       "      <td>1.66</td>\n",
       "      <td>3</td>\n",
       "      <td>1</td>\n",
       "      <td>0</td>\n",
       "      <td>0</td>\n",
       "      <td>1</td>\n",
       "      <td>0</td>\n",
       "      <td>0</td>\n",
       "      <td>0</td>\n",
       "      <td>1</td>\n",
       "      <td>0</td>\n",
       "      <td>1</td>\n",
       "    </tr>\n",
       "    <tr>\n",
       "      <th>2</th>\n",
       "      <td>21.01</td>\n",
       "      <td>3.50</td>\n",
       "      <td>3</td>\n",
       "      <td>1</td>\n",
       "      <td>0</td>\n",
       "      <td>0</td>\n",
       "      <td>1</td>\n",
       "      <td>0</td>\n",
       "      <td>0</td>\n",
       "      <td>0</td>\n",
       "      <td>1</td>\n",
       "      <td>0</td>\n",
       "      <td>1</td>\n",
       "    </tr>\n",
       "    <tr>\n",
       "      <th>3</th>\n",
       "      <td>23.68</td>\n",
       "      <td>3.31</td>\n",
       "      <td>2</td>\n",
       "      <td>1</td>\n",
       "      <td>0</td>\n",
       "      <td>0</td>\n",
       "      <td>1</td>\n",
       "      <td>0</td>\n",
       "      <td>0</td>\n",
       "      <td>0</td>\n",
       "      <td>1</td>\n",
       "      <td>0</td>\n",
       "      <td>1</td>\n",
       "    </tr>\n",
       "    <tr>\n",
       "      <th>4</th>\n",
       "      <td>24.59</td>\n",
       "      <td>3.61</td>\n",
       "      <td>4</td>\n",
       "      <td>0</td>\n",
       "      <td>1</td>\n",
       "      <td>0</td>\n",
       "      <td>1</td>\n",
       "      <td>0</td>\n",
       "      <td>0</td>\n",
       "      <td>0</td>\n",
       "      <td>1</td>\n",
       "      <td>0</td>\n",
       "      <td>1</td>\n",
       "    </tr>\n",
       "  </tbody>\n",
       "</table>\n",
       "</div>"
      ],
      "text/plain": [
       "   total_bill   tip  size  sex_Male  sex_Female  smoker_Yes  smoker_No  \\\n",
       "0       16.99  1.01     2         0           1           0          1   \n",
       "1       10.34  1.66     3         1           0           0          1   \n",
       "2       21.01  3.50     3         1           0           0          1   \n",
       "3       23.68  3.31     2         1           0           0          1   \n",
       "4       24.59  3.61     4         0           1           0          1   \n",
       "\n",
       "   day_Thur  day_Fri  day_Sat  day_Sun  time_Lunch  time_Dinner  \n",
       "0         0        0        0        1           0            1  \n",
       "1         0        0        0        1           0            1  \n",
       "2         0        0        0        1           0            1  \n",
       "3         0        0        0        1           0            1  \n",
       "4         0        0        0        1           0            1  "
      ]
     },
     "execution_count": 72,
     "metadata": {},
     "output_type": "execute_result"
    }
   ],
   "source": [
    "tips = pd.get_dummies(tips, columns=['sex','smoker','day','time'])\n",
    "tips.head()"
   ]
  },
  {
   "cell_type": "markdown",
   "metadata": {},
   "source": [
    "다른 변수들을 통해 tip의 값을 최종적으로 예측하고자 맨 오른쪽으로 이동시키자."
   ]
  },
  {
   "cell_type": "code",
   "execution_count": 73,
   "metadata": {},
   "outputs": [
    {
     "data": {
      "text/html": [
       "<div>\n",
       "<style scoped>\n",
       "    .dataframe tbody tr th:only-of-type {\n",
       "        vertical-align: middle;\n",
       "    }\n",
       "\n",
       "    .dataframe tbody tr th {\n",
       "        vertical-align: top;\n",
       "    }\n",
       "\n",
       "    .dataframe thead th {\n",
       "        text-align: right;\n",
       "    }\n",
       "</style>\n",
       "<table border=\"1\" class=\"dataframe\">\n",
       "  <thead>\n",
       "    <tr style=\"text-align: right;\">\n",
       "      <th></th>\n",
       "      <th>total_bill</th>\n",
       "      <th>size</th>\n",
       "      <th>sex_Male</th>\n",
       "      <th>sex_Female</th>\n",
       "      <th>smoker_Yes</th>\n",
       "      <th>smoker_No</th>\n",
       "      <th>day_Thur</th>\n",
       "      <th>day_Fri</th>\n",
       "      <th>day_Sat</th>\n",
       "      <th>day_Sun</th>\n",
       "      <th>time_Lunch</th>\n",
       "      <th>time_Dinner</th>\n",
       "      <th>tip</th>\n",
       "    </tr>\n",
       "  </thead>\n",
       "  <tbody>\n",
       "    <tr>\n",
       "      <th>0</th>\n",
       "      <td>16.99</td>\n",
       "      <td>2</td>\n",
       "      <td>0</td>\n",
       "      <td>1</td>\n",
       "      <td>0</td>\n",
       "      <td>1</td>\n",
       "      <td>0</td>\n",
       "      <td>0</td>\n",
       "      <td>0</td>\n",
       "      <td>1</td>\n",
       "      <td>0</td>\n",
       "      <td>1</td>\n",
       "      <td>1.01</td>\n",
       "    </tr>\n",
       "    <tr>\n",
       "      <th>1</th>\n",
       "      <td>10.34</td>\n",
       "      <td>3</td>\n",
       "      <td>1</td>\n",
       "      <td>0</td>\n",
       "      <td>0</td>\n",
       "      <td>1</td>\n",
       "      <td>0</td>\n",
       "      <td>0</td>\n",
       "      <td>0</td>\n",
       "      <td>1</td>\n",
       "      <td>0</td>\n",
       "      <td>1</td>\n",
       "      <td>1.66</td>\n",
       "    </tr>\n",
       "    <tr>\n",
       "      <th>2</th>\n",
       "      <td>21.01</td>\n",
       "      <td>3</td>\n",
       "      <td>1</td>\n",
       "      <td>0</td>\n",
       "      <td>0</td>\n",
       "      <td>1</td>\n",
       "      <td>0</td>\n",
       "      <td>0</td>\n",
       "      <td>0</td>\n",
       "      <td>1</td>\n",
       "      <td>0</td>\n",
       "      <td>1</td>\n",
       "      <td>3.50</td>\n",
       "    </tr>\n",
       "    <tr>\n",
       "      <th>3</th>\n",
       "      <td>23.68</td>\n",
       "      <td>2</td>\n",
       "      <td>1</td>\n",
       "      <td>0</td>\n",
       "      <td>0</td>\n",
       "      <td>1</td>\n",
       "      <td>0</td>\n",
       "      <td>0</td>\n",
       "      <td>0</td>\n",
       "      <td>1</td>\n",
       "      <td>0</td>\n",
       "      <td>1</td>\n",
       "      <td>3.31</td>\n",
       "    </tr>\n",
       "    <tr>\n",
       "      <th>4</th>\n",
       "      <td>24.59</td>\n",
       "      <td>4</td>\n",
       "      <td>0</td>\n",
       "      <td>1</td>\n",
       "      <td>0</td>\n",
       "      <td>1</td>\n",
       "      <td>0</td>\n",
       "      <td>0</td>\n",
       "      <td>0</td>\n",
       "      <td>1</td>\n",
       "      <td>0</td>\n",
       "      <td>1</td>\n",
       "      <td>3.61</td>\n",
       "    </tr>\n",
       "  </tbody>\n",
       "</table>\n",
       "</div>"
      ],
      "text/plain": [
       "   total_bill  size  sex_Male  sex_Female  smoker_Yes  smoker_No  day_Thur  \\\n",
       "0       16.99     2         0           1           0          1         0   \n",
       "1       10.34     3         1           0           0          1         0   \n",
       "2       21.01     3         1           0           0          1         0   \n",
       "3       23.68     2         1           0           0          1         0   \n",
       "4       24.59     4         0           1           0          1         0   \n",
       "\n",
       "   day_Fri  day_Sat  day_Sun  time_Lunch  time_Dinner   tip  \n",
       "0        0        0        1           0            1  1.01  \n",
       "1        0        0        1           0            1  1.66  \n",
       "2        0        0        1           0            1  3.50  \n",
       "3        0        0        1           0            1  3.31  \n",
       "4        0        0        1           0            1  3.61  "
      ]
     },
     "execution_count": 73,
     "metadata": {},
     "output_type": "execute_result"
    }
   ],
   "source": [
    "tips = tips[['total_bill', 'size', 'sex_Male', 'sex_Female', 'smoker_Yes', 'smoker_No',\n",
    "             'day_Thur', 'day_Fri', 'day_Sat', 'day_Sun', 'time_Lunch', 'time_Dinner', 'tip']]\n",
    "tips.head()"
   ]
  },
  {
   "cell_type": "markdown",
   "metadata": {},
   "source": [
    "## 다변수 선형회귀에 대한 데이터 전처리"
   ]
  },
  {
   "cell_type": "code",
   "execution_count": 74,
   "metadata": {},
   "outputs": [],
   "source": [
    "X = tips[['total_bill', 'size', 'sex_Male', 'sex_Female', 'smoker_Yes', 'smoker_No',\n",
    "          'day_Thur', 'day_Fri', 'day_Sat', 'day_Sun', 'time_Lunch', 'time_Dinner']].values\n",
    "y = tips['tip'].values"
   ]
  },
  {
   "cell_type": "code",
   "execution_count": 75,
   "metadata": {},
   "outputs": [
    {
     "name": "stdout",
     "output_type": "stream",
     "text": [
      "(195, 12) (195,)\n",
      "(49, 12) (49,)\n"
     ]
    }
   ],
   "source": [
    "from sklearn.model_selection import train_test_split\n",
    "\n",
    "X_train, X_test, y_train, y_test = train_test_split(X,y, test_size = 0.2, random_state =42)\n",
    "\n",
    "print(X_train.shape, y_train.shape)\n",
    "print(X_test.shape, y_test.shape)"
   ]
  },
  {
   "cell_type": "markdown",
   "metadata": {},
   "source": [
    "12개의 W 백터와 1개의 B가 필요하다."
   ]
  },
  {
   "cell_type": "code",
   "execution_count": 76,
   "metadata": {},
   "outputs": [],
   "source": [
    "W = np.random.rand(12)\n",
    "b = np.random.rand()\n",
    "\n",
    "def model(X,W,b):\n",
    "  prediction = 0\n",
    "  for i in range(12):\n",
    "    prediction += X[:,i] * W[i]\n",
    "  prediction += b\n",
    "  return prediction\n",
    "\n",
    "def MSE(a,b):\n",
    "  mse = ((a-b)**2).mean()\n",
    "  return mse\n",
    "\n",
    "def loss(X,W,b,y):\n",
    "  prediction = model(X, W, b)\n",
    "  L = MSE(prediction, y)\n",
    "  return L"
   ]
  },
  {
   "cell_type": "markdown",
   "metadata": {},
   "source": [
    "이번에는 RMSE가 아닌 MSE로 로스함수까지 만들었다."
   ]
  },
  {
   "cell_type": "code",
   "execution_count": 78,
   "metadata": {},
   "outputs": [
    {
     "name": "stdout",
     "output_type": "stream",
     "text": [
      "dW: [5585.94438781  683.64312797  169.49554079   81.38741044   96.83647221\n",
      "  154.04647902   58.67812912   17.21921145   87.54061625   87.44499442\n",
      "   62.6332609   188.24969033]\n",
      "db: 12.338505798211333\n"
     ]
    }
   ],
   "source": [
    "def gradient(X, W, b, y):\n",
    "  N = len(W)\n",
    "\n",
    "  y_pred = model(X,W,b)\n",
    "\n",
    "  dW = 1/N * 2 *X.T.dot(y_pred - y)\n",
    "\n",
    "  db = 2 * (y_pred - y).mean()\n",
    "  return dW, db\n",
    "\n",
    "dW, db = gradient(X, W, b, y)\n",
    "print(\"dW:\", dW)\n",
    "print(\"db:\", db)"
   ]
  },
  {
   "cell_type": "markdown",
   "metadata": {},
   "source": [
    "여기서 dW를 계산할 때, X의 전치행렬(Transpose)를 변환시켜 y의 오차백터와 내적시켰다. 따라서 x1과 오차 백터의 1열과 내적되어 w1이 되고, x2는 오차백터 2열과 내적되어 w2를 갖도록 만들었다."
   ]
  },
  {
   "cell_type": "markdown",
   "metadata": {},
   "source": [
    "이제 반복해서 가중치 학습을 진행시키자.\n",
    "\n",
    "이번에는 학습률은 0.0001로 한다."
   ]
  },
  {
   "cell_type": "code",
   "execution_count": 79,
   "metadata": {},
   "outputs": [
    {
     "name": "stdout",
     "output_type": "stream",
     "text": [
      "Iteration 10 : Loss 2.0017\n",
      "Iteration 20 : Loss 1.9737\n",
      "Iteration 30 : Loss 1.9487\n",
      "Iteration 40 : Loss 1.9251\n",
      "Iteration 50 : Loss 1.9026\n",
      "Iteration 60 : Loss 1.8813\n",
      "Iteration 70 : Loss 1.8611\n",
      "Iteration 80 : Loss 1.8418\n",
      "Iteration 90 : Loss 1.8235\n",
      "Iteration 100 : Loss 1.8061\n",
      "Iteration 110 : Loss 1.7895\n",
      "Iteration 120 : Loss 1.7736\n",
      "Iteration 130 : Loss 1.7585\n",
      "Iteration 140 : Loss 1.7440\n",
      "Iteration 150 : Loss 1.7302\n",
      "Iteration 160 : Loss 1.7170\n",
      "Iteration 170 : Loss 1.7044\n",
      "Iteration 180 : Loss 1.6923\n",
      "Iteration 190 : Loss 1.6806\n",
      "Iteration 200 : Loss 1.6695\n",
      "Iteration 210 : Loss 1.6588\n",
      "Iteration 220 : Loss 1.6485\n",
      "Iteration 230 : Loss 1.6385\n",
      "Iteration 240 : Loss 1.6290\n",
      "Iteration 250 : Loss 1.6198\n",
      "Iteration 260 : Loss 1.6109\n",
      "Iteration 270 : Loss 1.6024\n",
      "Iteration 280 : Loss 1.5941\n",
      "Iteration 290 : Loss 1.5861\n",
      "Iteration 300 : Loss 1.5783\n",
      "Iteration 310 : Loss 1.5708\n",
      "Iteration 320 : Loss 1.5636\n",
      "Iteration 330 : Loss 1.5565\n",
      "Iteration 340 : Loss 1.5497\n",
      "Iteration 350 : Loss 1.5431\n",
      "Iteration 360 : Loss 1.5366\n",
      "Iteration 370 : Loss 1.5303\n",
      "Iteration 380 : Loss 1.5242\n",
      "Iteration 390 : Loss 1.5183\n",
      "Iteration 400 : Loss 1.5125\n",
      "Iteration 410 : Loss 1.5068\n",
      "Iteration 420 : Loss 1.5013\n",
      "Iteration 430 : Loss 1.4959\n",
      "Iteration 440 : Loss 1.4907\n",
      "Iteration 450 : Loss 1.4855\n",
      "Iteration 460 : Loss 1.4805\n",
      "Iteration 470 : Loss 1.4756\n",
      "Iteration 480 : Loss 1.4708\n",
      "Iteration 490 : Loss 1.4661\n",
      "Iteration 500 : Loss 1.4615\n",
      "Iteration 510 : Loss 1.4570\n",
      "Iteration 520 : Loss 1.4525\n",
      "Iteration 530 : Loss 1.4482\n",
      "Iteration 540 : Loss 1.4439\n",
      "Iteration 550 : Loss 1.4397\n",
      "Iteration 560 : Loss 1.4356\n",
      "Iteration 570 : Loss 1.4316\n",
      "Iteration 580 : Loss 1.4276\n",
      "Iteration 590 : Loss 1.4237\n",
      "Iteration 600 : Loss 1.4199\n",
      "Iteration 610 : Loss 1.4161\n",
      "Iteration 620 : Loss 1.4124\n",
      "Iteration 630 : Loss 1.4088\n",
      "Iteration 640 : Loss 1.4052\n",
      "Iteration 650 : Loss 1.4016\n",
      "Iteration 660 : Loss 1.3982\n",
      "Iteration 670 : Loss 1.3947\n",
      "Iteration 680 : Loss 1.3913\n",
      "Iteration 690 : Loss 1.3880\n",
      "Iteration 700 : Loss 1.3847\n",
      "Iteration 710 : Loss 1.3815\n",
      "Iteration 720 : Loss 1.3783\n",
      "Iteration 730 : Loss 1.3752\n",
      "Iteration 740 : Loss 1.3721\n",
      "Iteration 750 : Loss 1.3690\n",
      "Iteration 760 : Loss 1.3660\n",
      "Iteration 770 : Loss 1.3630\n",
      "Iteration 780 : Loss 1.3601\n",
      "Iteration 790 : Loss 1.3572\n",
      "Iteration 800 : Loss 1.3543\n",
      "Iteration 810 : Loss 1.3515\n",
      "Iteration 820 : Loss 1.3487\n",
      "Iteration 830 : Loss 1.3459\n",
      "Iteration 840 : Loss 1.3432\n",
      "Iteration 850 : Loss 1.3405\n",
      "Iteration 860 : Loss 1.3379\n",
      "Iteration 870 : Loss 1.3353\n",
      "Iteration 880 : Loss 1.3327\n",
      "Iteration 890 : Loss 1.3301\n",
      "Iteration 900 : Loss 1.3276\n",
      "Iteration 910 : Loss 1.3251\n",
      "Iteration 920 : Loss 1.3227\n",
      "Iteration 930 : Loss 1.3202\n",
      "Iteration 940 : Loss 1.3178\n",
      "Iteration 950 : Loss 1.3155\n",
      "Iteration 960 : Loss 1.3131\n",
      "Iteration 970 : Loss 1.3108\n",
      "Iteration 980 : Loss 1.3085\n",
      "Iteration 990 : Loss 1.3062\n",
      "Iteration 1000 : Loss 1.3040\n"
     ]
    }
   ],
   "source": [
    "LEARNING_RATE = 0.0001\n",
    "\n",
    "losses = []\n",
    "\n",
    "for i in range(1,1001):\n",
    "  dW, db = gradient(X_train, W, b, y_train)\n",
    "  W -= LEARNING_RATE * dW\n",
    "  b -= LEARNING_RATE * db\n",
    "  L = loss(X_train, W,b,y_train)\n",
    "  losses.append(L)\n",
    "  if i % 10 == 0:\n",
    "    print(\"Iteration %d : Loss %0.4f\" % (i, L))\n"
   ]
  },
  {
   "cell_type": "code",
   "execution_count": 81,
   "metadata": {},
   "outputs": [
    {
     "data": {
      "image/png": "[encoded data removed]",
      "text/plain": [
       "<Figure size 432x288 with 1 Axes>"
      ]
     },
     "metadata": {
      "image/png": {
       "height": 248,
       "width": 369
      },
      "needs_background": "light"
     },
     "output_type": "display_data"
    },
    {
     "name": "stdout",
     "output_type": "stream",
     "text": [
      "[ 0.08138794 -0.14410836  0.48056686  0.4243995  -0.04634424  0.02264205\n",
      "  0.53549697  0.40056551  0.10915909  0.5696432   0.16645326  0.38603155] 0.7752047368645506\n"
     ]
    }
   ],
   "source": [
    "plt.plot(losses)\n",
    "plt.show()\n",
    "\n",
    "print(W,b)"
   ]
  },
  {
   "cell_type": "markdown",
   "metadata": {},
   "source": [
    "경사하강법을 1000번 반복하고 있다.\n",
    "반복이 증가하면서 loss함수는 0에 가까워지고 있다.\n",
    "\n",
    "W,b의 값이 구해졌다.\n",
    "\n",
    "테스트 셋의 데이터를 넣어서 mse(loss)값을 구하자."
   ]
  },
  {
   "cell_type": "code",
   "execution_count": 82,
   "metadata": {},
   "outputs": [
    {
     "data": {
      "text/plain": [
       "0.7751981919168823"
      ]
     },
     "execution_count": 82,
     "metadata": {},
     "output_type": "execute_result"
    }
   ],
   "source": [
    "prediction = model(X_test, W,b)\n",
    "mse = loss(X_test, W,b, y_test)\n",
    "mse"
   ]
  },
  {
   "cell_type": "markdown",
   "metadata": {},
   "source": [
    "아주 작은 값으로 수렴한 듯하다.\n",
    "실제 데이터 셋과 예측 데이터셋을 시각화해보자."
   ]
  },
  {
   "cell_type": "code",
   "execution_count": 83,
   "metadata": {},
   "outputs": [
    {
     "data": {
      "image/png": "[encoded data removed]",
      "text/plain": [
       "<Figure size 432x288 with 1 Axes>"
      ]
     },
     "metadata": {
      "image/png": {
       "height": 248,
       "width": 366
      },
      "needs_background": "light"
     },
     "output_type": "display_data"
    }
   ],
   "source": [
    "plt.scatter(X_test[:,0], y_test)\n",
    "plt.scatter(X_test[:,0], prediction)\n",
    "plt.show()"
   ]
  },
  {
   "cell_type": "code",
   "execution_count": null,
   "metadata": {},
   "outputs": [],
   "source": []
  }
 ],
 "metadata": {
  "kernelspec": {
   "display_name": "Python 3.9.12 ('base')",
   "language": "python",
   "name": "python3"
  },
  "language_info": {
   "codemirror_mode": {
    "name": "ipython",
    "version": 3
   },
   "file_extension": ".py",
   "mimetype": "text/x-python",
   "name": "python",
   "nbconvert_exporter": "python",
   "pygments_lexer": "ipython3",
   "version": "3.9.12"
  },
  "orig_nbformat": 4,
  "vscode": {
   "interpreter": {
    "hash": "04f264c9f04f7c6d1a1e5f9fded89ff150ec7f969a926ef69b3c04d099cccdc4"
   }
  }
 },
 "nbformat": 4,
 "nbformat_minor": 2
}
