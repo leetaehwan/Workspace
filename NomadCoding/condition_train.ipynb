{
 "cells": [
  {
   "cell_type": "code",
   "execution_count": 10,
   "metadata": {},
   "outputs": [
    {
     "name": "stdout",
     "output_type": "stream",
     "text": [
      "<Response [200]>\n",
      "<Response [429]>\n",
      "<Response [200]>\n",
      "<Response [200]>\n",
      "<Response [200]>\n",
      "{'https://google.com': 'OK', 'https://airbnb.com': 'FAILED', 'https://twitter.com': 'OK', 'https://facebook.com': 'OK', 'https://tiktok.com': 'OK'}\n"
     ]
    }
   ],
   "source": [
    "from requests import get\n",
    "\n",
    "websites = (\n",
    "  \"https://google.com\",\n",
    "  \"airbnb.com\",\n",
    "  \"https://twitter.com\",\n",
    "  \"facebook.com\",\n",
    "  \"tiktok.com\"\n",
    ")\n",
    "\n",
    "results =  {}\n",
    "\n",
    "for website in websites:\n",
    "  if not website.startswith(\"https://\"):\n",
    "    website = f'https://{website}'\n",
    "  response = get(website)\n",
    "  print(response)\n",
    "  if response.status_code == 200:\n",
    "    results[website] = \"OK\"\n",
    "  else:\n",
    "    results[website] = \"FAILED\"\n",
    "\n",
    "print(results)"
   ]
  }
 ],
 "metadata": {
  "kernelspec": {
   "display_name": "Python 3.9.12 ('base')",
   "language": "python",
   "name": "python3"
  },
  "language_info": {
   "codemirror_mode": {
    "name": "ipython",
    "version": 3
   },
   "file_extension": ".py",
   "mimetype": "text/x-python",
   "name": "python",
   "nbconvert_exporter": "python",
   "pygments_lexer": "ipython3",
   "version": "3.9.12"
  },
  "orig_nbformat": 4,
  "vscode": {
   "interpreter": {
    "hash": "04f264c9f04f7c6d1a1e5f9fded89ff150ec7f969a926ef69b3c04d099cccdc4"
   }
  }
 },
 "nbformat": 4,
 "nbformat_minor": 2
}
