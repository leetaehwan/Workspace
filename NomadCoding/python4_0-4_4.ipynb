{
 "cells": [
  {
   "cell_type": "code",
   "execution_count": 7,
   "metadata": {},
   "outputs": [
    {
     "name": "stdout",
     "output_type": "stream",
     "text": [
      "NICO\n",
      "Nico\n",
      "True\n"
     ]
    }
   ],
   "source": [
    "daysOfWeek = [\"Mon\",\"Tue\",\"Wed\",\"Thr\",\"Fri\"]\n",
    "\n",
    "name = \"nico\"\n",
    "\n",
    "print(name.upper())\n",
    "print(name.capitalize())\n",
    "print(name.startswith(\"n\"))"
   ]
  },
  {
   "cell_type": "code",
   "execution_count": null,
   "metadata": {},
   "outputs": [],
   "source": [
    "daysOfWeek = [\"Mon\",\"Tue\",\"Wed\",\"Thr\",\"Fri\"]\n",
    "\n",
    "print(daysOfWeek.count(\"Wed\"))"
   ]
  }
 ],
 "metadata": {
  "kernelspec": {
   "display_name": "Python 3.10.0 64-bit",
   "language": "python",
   "name": "python3"
  },
  "language_info": {
   "codemirror_mode": {
    "name": "ipython",
    "version": 3
   },
   "file_extension": ".py",
   "mimetype": "text/x-python",
   "name": "python",
   "nbconvert_exporter": "python",
   "pygments_lexer": "ipython3",
   "version": "3.10.0"
  },
  "orig_nbformat": 4,
  "vscode": {
   "interpreter": {
    "hash": "aee8b7b246df8f9039afb4144a1f6fd8d2ca17a180786b69acc140d282b71a49"
   }
  }
 },
 "nbformat": 4,
 "nbformat_minor": 2
}
